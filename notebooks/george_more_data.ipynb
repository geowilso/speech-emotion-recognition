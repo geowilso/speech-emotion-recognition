{
 "cells": [
  {
   "cell_type": "code",
   "execution_count": 1,
   "id": "a133d4c5",
   "metadata": {},
   "outputs": [
    {
     "name": "stderr",
     "output_type": "stream",
     "text": [
      "2022-03-03 21:51:46.083177: W tensorflow/stream_executor/platform/default/dso_loader.cc:64] Could not load dynamic library 'libcudart.so.11.0'; dlerror: libcudart.so.11.0: cannot open shared object file: No such file or directory\n",
      "2022-03-03 21:51:46.083280: I tensorflow/stream_executor/cuda/cudart_stub.cc:29] Ignore above cudart dlerror if you do not have a GPU set up on your machine.\n"
     ]
    }
   ],
   "source": [
    "import pandas as pd\n",
    "import numpy as np\n",
    "\n",
    "import os\n",
    "import sys\n",
    "\n",
    "import librosa\n",
    "import librosa.display\n",
    "import seaborn as sns\n",
    "import matplotlib.pyplot as plt\n",
    "\n",
    "from sklearn.preprocessing import StandardScaler, OneHotEncoder\n",
    "from sklearn.metrics import confusion_matrix, classification_report\n",
    "from sklearn.model_selection import train_test_split\n",
    "\n",
    "from IPython.display import Audio\n",
    "\n",
    "import tensorflow as tf\n",
    "from tensorflow.keras.callbacks import ReduceLROnPlateau\n",
    "from tensorflow.keras.models import Sequential\n",
    "from tensorflow.keras.layers import Dense, LSTM, Flatten, Dropout, BatchNormalization\n",
    "from tensorflow.keras.callbacks import ModelCheckpoint\n",
    "\n",
    "import warnings\n",
    "if not sys.warnoptions:\n",
    "    warnings.simplefilter(\"ignore\")\n",
    "warnings.filterwarnings(\"ignore\", category=DeprecationWarning) "
   ]
  },
  {
   "cell_type": "code",
   "execution_count": 58,
   "id": "33c7ceec",
   "metadata": {},
   "outputs": [],
   "source": [
    "crema = '/home/geowilso/code/geowilso/speech-emotion-recognition/raw_data/wav_files/crema/'\n",
    "tess = '/home/geowilso/code/geowilso/speech-emotion-recognition/raw_data/wav_files/tess/'\n",
    "ravdess = '/home/geowilso/code/geowilso/speech-emotion-recognition/raw_data/wav_files/ravdess/'\n",
    "savee = '/home/geowilso/code/geowilso/speech-emotion-recognition/raw_data/wav_files/savee/'\n",
    "emodb = '/home/geowilso/code/geowilso/speech-emotion-recognition/raw_data/wav_files/emodb/'"
   ]
  },
  {
   "cell_type": "code",
   "execution_count": 86,
   "id": "b6ab8e66",
   "metadata": {},
   "outputs": [],
   "source": [
    "crema_directory_list = os.listdir(crema)\n",
    "\n",
    "gender = []\n",
    "emotion = []\n",
    "path = []\n",
    "female = [1002,1003,1004,1006,1007,1008,1009,1010,1012,1013,1018,1020,1021,1024,1025,1028,1029,1030,1037,1043,1046,1047,1049,\n",
    "          1052,1053,1054,1055,1056,1058,1060,1061,1063,1072,1073,1074,1075,1076,1078,1079,1082,1084,1089,1091]\n",
    "\n",
    "for i in crema_directory_list: \n",
    "    part = i.split('_')\n",
    "    if int(part[0]) in female:\n",
    "        temp = 'female'\n",
    "    else:\n",
    "        temp = 'male'\n",
    "    gender.append(temp)\n",
    "    \n",
    "    if part[2] == 'SAD':\n",
    "        emotion.append('sad')\n",
    "    elif part[2] == 'ANG':\n",
    "        emotion.append('angry')\n",
    "    elif part[2] == 'DIS':\n",
    "        emotion.append('disgust')\n",
    "    elif part[2] == 'FEA':\n",
    "        emotion.append('fear')\n",
    "    elif part[2] == 'HAP':\n",
    "        emotion.append('happy')\n",
    "    elif part[2] == 'NEU':\n",
    "        emotion.append('neutral')\n",
    "    else:\n",
    "        emotion.append('unknown')\n",
    "    path.append(crema + i)\n",
    "    \n",
    "crema_df = pd.DataFrame(emotion, columns = ['emotion'])\n",
    "crema_df = pd.concat([crema_df,pd.DataFrame(gender, columns = ['gender'])],axis=1)\n",
    "crema_df = pd.concat([crema_df,pd.DataFrame(path, columns = ['path'])],axis=1)"
   ]
  },
  {
   "cell_type": "code",
   "execution_count": 87,
   "id": "ae22108e",
   "metadata": {},
   "outputs": [],
   "source": [
    "def combo(df):\n",
    "    return f'{df[1]}_{df[0]}'\n",
    "\n",
    "def sad(x):\n",
    "    return 1 if x.lower() == 'sad' else 0\n",
    "\n",
    "def angry(x):\n",
    "    return 1 if x.lower() == 'angry' else 0\n",
    "\n",
    "def disgust(x):\n",
    "    return 1 if x.lower() == 'disgust' else 0\n",
    "\n",
    "def fear(x):\n",
    "    return 1 if x.lower() == 'fear' else 0\n",
    "\n",
    "def happy(x):\n",
    "    return 1 if x.lower() == 'happy' else 0\n",
    "\n",
    "def neutral(x):\n",
    "    return 1 if x.lower() == 'neutral' else 0\n",
    "\n",
    "def pos_or_neg(x):\n",
    "    if x == 'happy' or x == 'surprise':\n",
    "        return 'positive'\n",
    "    elif x == 'neutral':\n",
    "        return x\n",
    "    else:\n",
    "        return 'negative'"
   ]
  },
  {
   "cell_type": "code",
   "execution_count": 88,
   "id": "8e062cbc",
   "metadata": {},
   "outputs": [],
   "source": [
    "crema_df['source'] = 'crema'"
   ]
  },
  {
   "cell_type": "code",
   "execution_count": 89,
   "id": "786bffc1",
   "metadata": {},
   "outputs": [
    {
     "data": {
      "text/html": [
       "<div>\n",
       "<style scoped>\n",
       "    .dataframe tbody tr th:only-of-type {\n",
       "        vertical-align: middle;\n",
       "    }\n",
       "\n",
       "    .dataframe tbody tr th {\n",
       "        vertical-align: top;\n",
       "    }\n",
       "\n",
       "    .dataframe thead th {\n",
       "        text-align: right;\n",
       "    }\n",
       "</style>\n",
       "<table border=\"1\" class=\"dataframe\">\n",
       "  <thead>\n",
       "    <tr style=\"text-align: right;\">\n",
       "      <th></th>\n",
       "      <th>emotion</th>\n",
       "      <th>gender</th>\n",
       "      <th>path</th>\n",
       "      <th>source</th>\n",
       "    </tr>\n",
       "  </thead>\n",
       "  <tbody>\n",
       "    <tr>\n",
       "      <th>0</th>\n",
       "      <td>fear</td>\n",
       "      <td>female</td>\n",
       "      <td>/home/geowilso/code/geowilso/speech-emotion-re...</td>\n",
       "      <td>crema</td>\n",
       "    </tr>\n",
       "    <tr>\n",
       "      <th>1</th>\n",
       "      <td>disgust</td>\n",
       "      <td>male</td>\n",
       "      <td>/home/geowilso/code/geowilso/speech-emotion-re...</td>\n",
       "      <td>crema</td>\n",
       "    </tr>\n",
       "    <tr>\n",
       "      <th>2</th>\n",
       "      <td>sad</td>\n",
       "      <td>male</td>\n",
       "      <td>/home/geowilso/code/geowilso/speech-emotion-re...</td>\n",
       "      <td>crema</td>\n",
       "    </tr>\n",
       "    <tr>\n",
       "      <th>3</th>\n",
       "      <td>happy</td>\n",
       "      <td>female</td>\n",
       "      <td>/home/geowilso/code/geowilso/speech-emotion-re...</td>\n",
       "      <td>crema</td>\n",
       "    </tr>\n",
       "    <tr>\n",
       "      <th>4</th>\n",
       "      <td>angry</td>\n",
       "      <td>male</td>\n",
       "      <td>/home/geowilso/code/geowilso/speech-emotion-re...</td>\n",
       "      <td>crema</td>\n",
       "    </tr>\n",
       "  </tbody>\n",
       "</table>\n",
       "</div>"
      ],
      "text/plain": [
       "   emotion  gender                                               path source\n",
       "0     fear  female  /home/geowilso/code/geowilso/speech-emotion-re...  crema\n",
       "1  disgust    male  /home/geowilso/code/geowilso/speech-emotion-re...  crema\n",
       "2      sad    male  /home/geowilso/code/geowilso/speech-emotion-re...  crema\n",
       "3    happy  female  /home/geowilso/code/geowilso/speech-emotion-re...  crema\n",
       "4    angry    male  /home/geowilso/code/geowilso/speech-emotion-re...  crema"
      ]
     },
     "execution_count": 89,
     "metadata": {},
     "output_type": "execute_result"
    }
   ],
   "source": [
    "crema_df.head()"
   ]
  },
  {
   "cell_type": "code",
   "execution_count": null,
   "id": "4c953244",
   "metadata": {},
   "outputs": [],
   "source": []
  },
  {
   "cell_type": "code",
   "execution_count": 90,
   "id": "afdd19dc",
   "metadata": {},
   "outputs": [],
   "source": [
    "dir_list = os.listdir(savee)\n",
    "\n",
    "# parse the filename to get the emotions\n",
    "emotion=[]\n",
    "path = []\n",
    "for i in dir_list:\n",
    "    if i[-8:-6]=='_a':\n",
    "        emotion.append('angry')\n",
    "    elif i[-8:-6]=='_d':\n",
    "        emotion.append('disgust')\n",
    "    elif i[-8:-6]=='_f':\n",
    "        emotion.append('fear')\n",
    "    elif i[-8:-6]=='_h':\n",
    "        emotion.append('happy')\n",
    "    elif i[-8:-6]=='_n':\n",
    "        emotion.append('neutral')\n",
    "    elif i[-8:-6]=='sa':\n",
    "        emotion.append('sad')\n",
    "    elif i[-8:-6]=='su':\n",
    "        emotion.append('surprise')\n",
    "    else:\n",
    "        emotion.append('error') \n",
    "    path.append(savee + i)\n",
    "    \n",
    "# Now check out the label count distribution \n",
    "savee_df = pd.DataFrame(emotion, columns = ['emotion'])\n",
    "savee_df['source'] = 'savee'\n",
    "savee_df = pd.concat([savee_df, pd.DataFrame(path, columns = ['path'])], axis = 1)"
   ]
  },
  {
   "cell_type": "code",
   "execution_count": 91,
   "id": "2f542707",
   "metadata": {},
   "outputs": [],
   "source": [
    "savee_df['gender'] = 'male'"
   ]
  },
  {
   "cell_type": "code",
   "execution_count": 92,
   "id": "2ebf729d",
   "metadata": {},
   "outputs": [
    {
     "data": {
      "text/html": [
       "<div>\n",
       "<style scoped>\n",
       "    .dataframe tbody tr th:only-of-type {\n",
       "        vertical-align: middle;\n",
       "    }\n",
       "\n",
       "    .dataframe tbody tr th {\n",
       "        vertical-align: top;\n",
       "    }\n",
       "\n",
       "    .dataframe thead th {\n",
       "        text-align: right;\n",
       "    }\n",
       "</style>\n",
       "<table border=\"1\" class=\"dataframe\">\n",
       "  <thead>\n",
       "    <tr style=\"text-align: right;\">\n",
       "      <th></th>\n",
       "      <th>emotion</th>\n",
       "      <th>source</th>\n",
       "      <th>path</th>\n",
       "      <th>gender</th>\n",
       "    </tr>\n",
       "  </thead>\n",
       "  <tbody>\n",
       "    <tr>\n",
       "      <th>0</th>\n",
       "      <td>fear</td>\n",
       "      <td>savee</td>\n",
       "      <td>/home/geowilso/code/geowilso/speech-emotion-re...</td>\n",
       "      <td>male</td>\n",
       "    </tr>\n",
       "    <tr>\n",
       "      <th>1</th>\n",
       "      <td>disgust</td>\n",
       "      <td>savee</td>\n",
       "      <td>/home/geowilso/code/geowilso/speech-emotion-re...</td>\n",
       "      <td>male</td>\n",
       "    </tr>\n",
       "    <tr>\n",
       "      <th>2</th>\n",
       "      <td>disgust</td>\n",
       "      <td>savee</td>\n",
       "      <td>/home/geowilso/code/geowilso/speech-emotion-re...</td>\n",
       "      <td>male</td>\n",
       "    </tr>\n",
       "    <tr>\n",
       "      <th>3</th>\n",
       "      <td>neutral</td>\n",
       "      <td>savee</td>\n",
       "      <td>/home/geowilso/code/geowilso/speech-emotion-re...</td>\n",
       "      <td>male</td>\n",
       "    </tr>\n",
       "    <tr>\n",
       "      <th>4</th>\n",
       "      <td>happy</td>\n",
       "      <td>savee</td>\n",
       "      <td>/home/geowilso/code/geowilso/speech-emotion-re...</td>\n",
       "      <td>male</td>\n",
       "    </tr>\n",
       "  </tbody>\n",
       "</table>\n",
       "</div>"
      ],
      "text/plain": [
       "   emotion source                                               path gender\n",
       "0     fear  savee  /home/geowilso/code/geowilso/speech-emotion-re...   male\n",
       "1  disgust  savee  /home/geowilso/code/geowilso/speech-emotion-re...   male\n",
       "2  disgust  savee  /home/geowilso/code/geowilso/speech-emotion-re...   male\n",
       "3  neutral  savee  /home/geowilso/code/geowilso/speech-emotion-re...   male\n",
       "4    happy  savee  /home/geowilso/code/geowilso/speech-emotion-re...   male"
      ]
     },
     "execution_count": 92,
     "metadata": {},
     "output_type": "execute_result"
    }
   ],
   "source": [
    "savee_df.head()"
   ]
  },
  {
   "cell_type": "code",
   "execution_count": 96,
   "id": "86d72e02",
   "metadata": {},
   "outputs": [],
   "source": [
    "dir_list = os.listdir(ravdess)\n",
    "dir_list.sort()\n",
    "\n",
    "emotion = []\n",
    "gender = []\n",
    "path = []\n",
    "for i in dir_list:\n",
    "    fname = os.listdir(ravdess + i)\n",
    "    for f in fname:\n",
    "        part = f.split('.')[0].split('-')\n",
    "        emotion.append(int(part[2]))\n",
    "        temp = int(part[6])\n",
    "        if temp%2 == 0:\n",
    "            temp = \"female\"\n",
    "        else:\n",
    "            temp = \"male\"\n",
    "        gender.append(temp)\n",
    "        path.append(ravdess + i + '/' + f)\n",
    "        \n",
    "ravdess_df = pd.DataFrame(emotion)\n",
    "ravdess_df = ravdess_df.replace({1:'neutral', 2:'neutral', 3:'happy', 4:'sad', 5:'angry', 6:'fear', 7:'disgust', 8:'surprise'})\n",
    "ravdess_df = pd.concat([pd.DataFrame(gender),ravdess_df],axis=1)\n",
    "ravdess_df.columns = ['gender','emotion']\n",
    "ravdess_df['source'] = 'ravdess'  \n",
    "ravdess_df = pd.concat([ravdess_df,pd.DataFrame(path, columns = ['path'])],axis=1)"
   ]
  },
  {
   "cell_type": "code",
   "execution_count": 97,
   "id": "a5c12af1",
   "metadata": {},
   "outputs": [
    {
     "data": {
      "text/html": [
       "<div>\n",
       "<style scoped>\n",
       "    .dataframe tbody tr th:only-of-type {\n",
       "        vertical-align: middle;\n",
       "    }\n",
       "\n",
       "    .dataframe tbody tr th {\n",
       "        vertical-align: top;\n",
       "    }\n",
       "\n",
       "    .dataframe thead th {\n",
       "        text-align: right;\n",
       "    }\n",
       "</style>\n",
       "<table border=\"1\" class=\"dataframe\">\n",
       "  <thead>\n",
       "    <tr style=\"text-align: right;\">\n",
       "      <th></th>\n",
       "      <th>gender</th>\n",
       "      <th>emotion</th>\n",
       "      <th>source</th>\n",
       "      <th>path</th>\n",
       "    </tr>\n",
       "  </thead>\n",
       "  <tbody>\n",
       "    <tr>\n",
       "      <th>0</th>\n",
       "      <td>male</td>\n",
       "      <td>neutral</td>\n",
       "      <td>ravdess</td>\n",
       "      <td>/home/geowilso/code/geowilso/speech-emotion-re...</td>\n",
       "    </tr>\n",
       "    <tr>\n",
       "      <th>1</th>\n",
       "      <td>male</td>\n",
       "      <td>fear</td>\n",
       "      <td>ravdess</td>\n",
       "      <td>/home/geowilso/code/geowilso/speech-emotion-re...</td>\n",
       "    </tr>\n",
       "    <tr>\n",
       "      <th>2</th>\n",
       "      <td>male</td>\n",
       "      <td>surprise</td>\n",
       "      <td>ravdess</td>\n",
       "      <td>/home/geowilso/code/geowilso/speech-emotion-re...</td>\n",
       "    </tr>\n",
       "    <tr>\n",
       "      <th>3</th>\n",
       "      <td>male</td>\n",
       "      <td>angry</td>\n",
       "      <td>ravdess</td>\n",
       "      <td>/home/geowilso/code/geowilso/speech-emotion-re...</td>\n",
       "    </tr>\n",
       "    <tr>\n",
       "      <th>4</th>\n",
       "      <td>male</td>\n",
       "      <td>fear</td>\n",
       "      <td>ravdess</td>\n",
       "      <td>/home/geowilso/code/geowilso/speech-emotion-re...</td>\n",
       "    </tr>\n",
       "    <tr>\n",
       "      <th>...</th>\n",
       "      <td>...</td>\n",
       "      <td>...</td>\n",
       "      <td>...</td>\n",
       "      <td>...</td>\n",
       "    </tr>\n",
       "    <tr>\n",
       "      <th>1435</th>\n",
       "      <td>female</td>\n",
       "      <td>surprise</td>\n",
       "      <td>ravdess</td>\n",
       "      <td>/home/geowilso/code/geowilso/speech-emotion-re...</td>\n",
       "    </tr>\n",
       "    <tr>\n",
       "      <th>1436</th>\n",
       "      <td>female</td>\n",
       "      <td>angry</td>\n",
       "      <td>ravdess</td>\n",
       "      <td>/home/geowilso/code/geowilso/speech-emotion-re...</td>\n",
       "    </tr>\n",
       "    <tr>\n",
       "      <th>1437</th>\n",
       "      <td>female</td>\n",
       "      <td>surprise</td>\n",
       "      <td>ravdess</td>\n",
       "      <td>/home/geowilso/code/geowilso/speech-emotion-re...</td>\n",
       "    </tr>\n",
       "    <tr>\n",
       "      <th>1438</th>\n",
       "      <td>female</td>\n",
       "      <td>neutral</td>\n",
       "      <td>ravdess</td>\n",
       "      <td>/home/geowilso/code/geowilso/speech-emotion-re...</td>\n",
       "    </tr>\n",
       "    <tr>\n",
       "      <th>1439</th>\n",
       "      <td>female</td>\n",
       "      <td>fear</td>\n",
       "      <td>ravdess</td>\n",
       "      <td>/home/geowilso/code/geowilso/speech-emotion-re...</td>\n",
       "    </tr>\n",
       "  </tbody>\n",
       "</table>\n",
       "<p>1440 rows × 4 columns</p>\n",
       "</div>"
      ],
      "text/plain": [
       "      gender   emotion   source  \\\n",
       "0       male   neutral  ravdess   \n",
       "1       male      fear  ravdess   \n",
       "2       male  surprise  ravdess   \n",
       "3       male     angry  ravdess   \n",
       "4       male      fear  ravdess   \n",
       "...      ...       ...      ...   \n",
       "1435  female  surprise  ravdess   \n",
       "1436  female     angry  ravdess   \n",
       "1437  female  surprise  ravdess   \n",
       "1438  female   neutral  ravdess   \n",
       "1439  female      fear  ravdess   \n",
       "\n",
       "                                                   path  \n",
       "0     /home/geowilso/code/geowilso/speech-emotion-re...  \n",
       "1     /home/geowilso/code/geowilso/speech-emotion-re...  \n",
       "2     /home/geowilso/code/geowilso/speech-emotion-re...  \n",
       "3     /home/geowilso/code/geowilso/speech-emotion-re...  \n",
       "4     /home/geowilso/code/geowilso/speech-emotion-re...  \n",
       "...                                                 ...  \n",
       "1435  /home/geowilso/code/geowilso/speech-emotion-re...  \n",
       "1436  /home/geowilso/code/geowilso/speech-emotion-re...  \n",
       "1437  /home/geowilso/code/geowilso/speech-emotion-re...  \n",
       "1438  /home/geowilso/code/geowilso/speech-emotion-re...  \n",
       "1439  /home/geowilso/code/geowilso/speech-emotion-re...  \n",
       "\n",
       "[1440 rows x 4 columns]"
      ]
     },
     "execution_count": 97,
     "metadata": {},
     "output_type": "execute_result"
    }
   ],
   "source": [
    "ravdess_df"
   ]
  },
  {
   "cell_type": "code",
   "execution_count": 123,
   "id": "48b7a921",
   "metadata": {},
   "outputs": [],
   "source": [
    "dir_list = os.listdir(tess)\n",
    "dir_list.sort()\n",
    "\n",
    "path = []\n",
    "emotion = []\n",
    "\n",
    "for i in dir_list:\n",
    "    fname = os.listdir(tess + i)\n",
    "    for f in fname:\n",
    "        if i == 'OAF_angry' or i == 'YAF_angry':\n",
    "            emotion.append('angry')\n",
    "        elif i == 'OAF_disgust' or i == 'YAF_disgust':\n",
    "            emotion.append('disgust')\n",
    "        elif i == 'OAF_Fear' or i == 'YAF_fear':\n",
    "            emotion.append('fear')\n",
    "        elif i == 'OAF_happy' or i == 'YAF_happy':\n",
    "            emotion.append('happy')\n",
    "        elif i == 'OAF_neutral' or i == 'YAF_neutral':\n",
    "            emotion.append('neutral')                                \n",
    "        elif i == 'OAF_Pleasant_surprise' or i == 'YAF_pleasant_surprised':\n",
    "            emotion.append('surprise')               \n",
    "        elif i == 'OAF_Sad' or i == 'YAF_sad':\n",
    "            emotion.append('sad')\n",
    "        else:\n",
    "            emotion.append('Unknown')\n",
    "        path.append(tess + i + \"/\" + f)\n",
    "\n",
    "tess_df = pd.DataFrame(emotion, columns = ['emotion'])\n",
    "tess_df['source'] = 'tess'\n",
    "tess_df = pd.concat([tess_df,pd.DataFrame(path, columns = ['path'])],axis=1)"
   ]
  },
  {
   "cell_type": "code",
   "execution_count": 125,
   "id": "e541ddcf",
   "metadata": {},
   "outputs": [],
   "source": [
    "tess_df['gender'] = 'female'"
   ]
  },
  {
   "cell_type": "code",
   "execution_count": 126,
   "id": "e709d6e1",
   "metadata": {},
   "outputs": [
    {
     "data": {
      "text/html": [
       "<div>\n",
       "<style scoped>\n",
       "    .dataframe tbody tr th:only-of-type {\n",
       "        vertical-align: middle;\n",
       "    }\n",
       "\n",
       "    .dataframe tbody tr th {\n",
       "        vertical-align: top;\n",
       "    }\n",
       "\n",
       "    .dataframe thead th {\n",
       "        text-align: right;\n",
       "    }\n",
       "</style>\n",
       "<table border=\"1\" class=\"dataframe\">\n",
       "  <thead>\n",
       "    <tr style=\"text-align: right;\">\n",
       "      <th></th>\n",
       "      <th>emotion</th>\n",
       "      <th>source</th>\n",
       "      <th>path</th>\n",
       "      <th>gender</th>\n",
       "    </tr>\n",
       "  </thead>\n",
       "  <tbody>\n",
       "    <tr>\n",
       "      <th>0</th>\n",
       "      <td>fear</td>\n",
       "      <td>tess</td>\n",
       "      <td>/home/geowilso/code/geowilso/speech-emotion-re...</td>\n",
       "      <td>female</td>\n",
       "    </tr>\n",
       "    <tr>\n",
       "      <th>1</th>\n",
       "      <td>fear</td>\n",
       "      <td>tess</td>\n",
       "      <td>/home/geowilso/code/geowilso/speech-emotion-re...</td>\n",
       "      <td>female</td>\n",
       "    </tr>\n",
       "    <tr>\n",
       "      <th>2</th>\n",
       "      <td>fear</td>\n",
       "      <td>tess</td>\n",
       "      <td>/home/geowilso/code/geowilso/speech-emotion-re...</td>\n",
       "      <td>female</td>\n",
       "    </tr>\n",
       "    <tr>\n",
       "      <th>3</th>\n",
       "      <td>fear</td>\n",
       "      <td>tess</td>\n",
       "      <td>/home/geowilso/code/geowilso/speech-emotion-re...</td>\n",
       "      <td>female</td>\n",
       "    </tr>\n",
       "    <tr>\n",
       "      <th>4</th>\n",
       "      <td>fear</td>\n",
       "      <td>tess</td>\n",
       "      <td>/home/geowilso/code/geowilso/speech-emotion-re...</td>\n",
       "      <td>female</td>\n",
       "    </tr>\n",
       "    <tr>\n",
       "      <th>...</th>\n",
       "      <td>...</td>\n",
       "      <td>...</td>\n",
       "      <td>...</td>\n",
       "      <td>...</td>\n",
       "    </tr>\n",
       "    <tr>\n",
       "      <th>2795</th>\n",
       "      <td>sad</td>\n",
       "      <td>tess</td>\n",
       "      <td>/home/geowilso/code/geowilso/speech-emotion-re...</td>\n",
       "      <td>female</td>\n",
       "    </tr>\n",
       "    <tr>\n",
       "      <th>2796</th>\n",
       "      <td>sad</td>\n",
       "      <td>tess</td>\n",
       "      <td>/home/geowilso/code/geowilso/speech-emotion-re...</td>\n",
       "      <td>female</td>\n",
       "    </tr>\n",
       "    <tr>\n",
       "      <th>2797</th>\n",
       "      <td>sad</td>\n",
       "      <td>tess</td>\n",
       "      <td>/home/geowilso/code/geowilso/speech-emotion-re...</td>\n",
       "      <td>female</td>\n",
       "    </tr>\n",
       "    <tr>\n",
       "      <th>2798</th>\n",
       "      <td>sad</td>\n",
       "      <td>tess</td>\n",
       "      <td>/home/geowilso/code/geowilso/speech-emotion-re...</td>\n",
       "      <td>female</td>\n",
       "    </tr>\n",
       "    <tr>\n",
       "      <th>2799</th>\n",
       "      <td>sad</td>\n",
       "      <td>tess</td>\n",
       "      <td>/home/geowilso/code/geowilso/speech-emotion-re...</td>\n",
       "      <td>female</td>\n",
       "    </tr>\n",
       "  </tbody>\n",
       "</table>\n",
       "<p>2800 rows × 4 columns</p>\n",
       "</div>"
      ],
      "text/plain": [
       "     emotion source                                               path  gender\n",
       "0       fear   tess  /home/geowilso/code/geowilso/speech-emotion-re...  female\n",
       "1       fear   tess  /home/geowilso/code/geowilso/speech-emotion-re...  female\n",
       "2       fear   tess  /home/geowilso/code/geowilso/speech-emotion-re...  female\n",
       "3       fear   tess  /home/geowilso/code/geowilso/speech-emotion-re...  female\n",
       "4       fear   tess  /home/geowilso/code/geowilso/speech-emotion-re...  female\n",
       "...      ...    ...                                                ...     ...\n",
       "2795     sad   tess  /home/geowilso/code/geowilso/speech-emotion-re...  female\n",
       "2796     sad   tess  /home/geowilso/code/geowilso/speech-emotion-re...  female\n",
       "2797     sad   tess  /home/geowilso/code/geowilso/speech-emotion-re...  female\n",
       "2798     sad   tess  /home/geowilso/code/geowilso/speech-emotion-re...  female\n",
       "2799     sad   tess  /home/geowilso/code/geowilso/speech-emotion-re...  female\n",
       "\n",
       "[2800 rows x 4 columns]"
      ]
     },
     "execution_count": 126,
     "metadata": {},
     "output_type": "execute_result"
    }
   ],
   "source": [
    "tess_df"
   ]
  },
  {
   "cell_type": "code",
   "execution_count": 131,
   "id": "5ec62ccf",
   "metadata": {},
   "outputs": [],
   "source": [
    "targets = pd.concat([crema_df,tess_df,ravdess_df,savee_df])"
   ]
  },
  {
   "cell_type": "code",
   "execution_count": 195,
   "id": "ad24c815",
   "metadata": {},
   "outputs": [
    {
     "data": {
      "text/html": [
       "<div>\n",
       "<style scoped>\n",
       "    .dataframe tbody tr th:only-of-type {\n",
       "        vertical-align: middle;\n",
       "    }\n",
       "\n",
       "    .dataframe tbody tr th {\n",
       "        vertical-align: top;\n",
       "    }\n",
       "\n",
       "    .dataframe thead th {\n",
       "        text-align: right;\n",
       "    }\n",
       "</style>\n",
       "<table border=\"1\" class=\"dataframe\">\n",
       "  <thead>\n",
       "    <tr style=\"text-align: right;\">\n",
       "      <th></th>\n",
       "      <th>emotion</th>\n",
       "      <th>gender</th>\n",
       "      <th>path</th>\n",
       "      <th>source</th>\n",
       "    </tr>\n",
       "  </thead>\n",
       "  <tbody>\n",
       "    <tr>\n",
       "      <th>0</th>\n",
       "      <td>fear</td>\n",
       "      <td>female</td>\n",
       "      <td>/home/geowilso/code/geowilso/speech-emotion-re...</td>\n",
       "      <td>crema</td>\n",
       "    </tr>\n",
       "    <tr>\n",
       "      <th>1</th>\n",
       "      <td>disgust</td>\n",
       "      <td>male</td>\n",
       "      <td>/home/geowilso/code/geowilso/speech-emotion-re...</td>\n",
       "      <td>crema</td>\n",
       "    </tr>\n",
       "    <tr>\n",
       "      <th>2</th>\n",
       "      <td>sad</td>\n",
       "      <td>male</td>\n",
       "      <td>/home/geowilso/code/geowilso/speech-emotion-re...</td>\n",
       "      <td>crema</td>\n",
       "    </tr>\n",
       "    <tr>\n",
       "      <th>3</th>\n",
       "      <td>happy</td>\n",
       "      <td>female</td>\n",
       "      <td>/home/geowilso/code/geowilso/speech-emotion-re...</td>\n",
       "      <td>crema</td>\n",
       "    </tr>\n",
       "    <tr>\n",
       "      <th>4</th>\n",
       "      <td>angry</td>\n",
       "      <td>male</td>\n",
       "      <td>/home/geowilso/code/geowilso/speech-emotion-re...</td>\n",
       "      <td>crema</td>\n",
       "    </tr>\n",
       "    <tr>\n",
       "      <th>...</th>\n",
       "      <td>...</td>\n",
       "      <td>...</td>\n",
       "      <td>...</td>\n",
       "      <td>...</td>\n",
       "    </tr>\n",
       "    <tr>\n",
       "      <th>474</th>\n",
       "      <td>neutral</td>\n",
       "      <td>male</td>\n",
       "      <td>/home/geowilso/code/geowilso/speech-emotion-re...</td>\n",
       "      <td>savee</td>\n",
       "    </tr>\n",
       "    <tr>\n",
       "      <th>475</th>\n",
       "      <td>disgust</td>\n",
       "      <td>male</td>\n",
       "      <td>/home/geowilso/code/geowilso/speech-emotion-re...</td>\n",
       "      <td>savee</td>\n",
       "    </tr>\n",
       "    <tr>\n",
       "      <th>476</th>\n",
       "      <td>angry</td>\n",
       "      <td>male</td>\n",
       "      <td>/home/geowilso/code/geowilso/speech-emotion-re...</td>\n",
       "      <td>savee</td>\n",
       "    </tr>\n",
       "    <tr>\n",
       "      <th>478</th>\n",
       "      <td>neutral</td>\n",
       "      <td>male</td>\n",
       "      <td>/home/geowilso/code/geowilso/speech-emotion-re...</td>\n",
       "      <td>savee</td>\n",
       "    </tr>\n",
       "    <tr>\n",
       "      <th>479</th>\n",
       "      <td>happy</td>\n",
       "      <td>male</td>\n",
       "      <td>/home/geowilso/code/geowilso/speech-emotion-re...</td>\n",
       "      <td>savee</td>\n",
       "    </tr>\n",
       "  </tbody>\n",
       "</table>\n",
       "<p>11510 rows × 4 columns</p>\n",
       "</div>"
      ],
      "text/plain": [
       "     emotion  gender                                               path source\n",
       "0       fear  female  /home/geowilso/code/geowilso/speech-emotion-re...  crema\n",
       "1    disgust    male  /home/geowilso/code/geowilso/speech-emotion-re...  crema\n",
       "2        sad    male  /home/geowilso/code/geowilso/speech-emotion-re...  crema\n",
       "3      happy  female  /home/geowilso/code/geowilso/speech-emotion-re...  crema\n",
       "4      angry    male  /home/geowilso/code/geowilso/speech-emotion-re...  crema\n",
       "..       ...     ...                                                ...    ...\n",
       "474  neutral    male  /home/geowilso/code/geowilso/speech-emotion-re...  savee\n",
       "475  disgust    male  /home/geowilso/code/geowilso/speech-emotion-re...  savee\n",
       "476    angry    male  /home/geowilso/code/geowilso/speech-emotion-re...  savee\n",
       "478  neutral    male  /home/geowilso/code/geowilso/speech-emotion-re...  savee\n",
       "479    happy    male  /home/geowilso/code/geowilso/speech-emotion-re...  savee\n",
       "\n",
       "[11510 rows x 4 columns]"
      ]
     },
     "execution_count": 195,
     "metadata": {},
     "output_type": "execute_result"
    }
   ],
   "source": [
    "targets"
   ]
  },
  {
   "cell_type": "code",
   "execution_count": null,
   "id": "2de5c3b4",
   "metadata": {},
   "outputs": [],
   "source": []
  },
  {
   "cell_type": "code",
   "execution_count": null,
   "id": "f7098631",
   "metadata": {},
   "outputs": [],
   "source": []
  },
  {
   "cell_type": "code",
   "execution_count": 146,
   "id": "229e799d",
   "metadata": {},
   "outputs": [],
   "source": [
    "targets = targets[targets['emotion']!='surprise']"
   ]
  },
  {
   "cell_type": "code",
   "execution_count": 147,
   "id": "8afca7ec",
   "metadata": {},
   "outputs": [
    {
     "data": {
      "image/png": "[encoded data removed]",
      "text/plain": [
       "<Figure size 432x288 with 1 Axes>"
      ]
     },
     "metadata": {
      "needs_background": "light"
     },
     "output_type": "display_data"
    }
   ],
   "source": [
    "plt.title('Count of Gender', size=12)\n",
    "sns.countplot(targets.gender)\n",
    "plt.ylabel('Count', size=12)\n",
    "plt.xlabel('Gender', size=12)\n",
    "sns.despine(top=True, right=True, left=False, bottom=False)\n",
    "plt.show()"
   ]
  },
  {
   "cell_type": "code",
   "execution_count": 148,
   "id": "9baf96f1",
   "metadata": {},
   "outputs": [
    {
     "data": {
      "image/png": "[encoded data removed]",
      "text/plain": [
       "<Figure size 432x288 with 1 Axes>"
      ]
     },
     "metadata": {
      "needs_background": "light"
     },
     "output_type": "display_data"
    }
   ],
   "source": [
    "plt.title('Count of Emotions', size=16)\n",
    "sns.countplot(targets.emotion)\n",
    "plt.ylabel('Count', size=12)\n",
    "plt.xlabel('Emotions', size=12)\n",
    "sns.despine(top=True, right=True, left=False, bottom=False)\n",
    "plt.show()"
   ]
  },
  {
   "cell_type": "code",
   "execution_count": 163,
   "id": "ef533ea5",
   "metadata": {},
   "outputs": [
    {
     "data": {
      "text/plain": [
       "{'disgust': 0, 'happy': 1, 'sad': 2, 'neutral': 3, 'fear': 4, 'angry': 5}"
      ]
     },
     "execution_count": 163,
     "metadata": {},
     "output_type": "execute_result"
    }
   ],
   "source": [
    "labels"
   ]
  },
  {
   "cell_type": "code",
   "execution_count": 168,
   "id": "c7951646",
   "metadata": {},
   "outputs": [
    {
     "data": {
      "text/html": [
       "<div>\n",
       "<style scoped>\n",
       "    .dataframe tbody tr th:only-of-type {\n",
       "        vertical-align: middle;\n",
       "    }\n",
       "\n",
       "    .dataframe tbody tr th {\n",
       "        vertical-align: top;\n",
       "    }\n",
       "\n",
       "    .dataframe thead th {\n",
       "        text-align: right;\n",
       "    }\n",
       "</style>\n",
       "<table border=\"1\" class=\"dataframe\">\n",
       "  <thead>\n",
       "    <tr style=\"text-align: right;\">\n",
       "      <th></th>\n",
       "      <th>emotion</th>\n",
       "      <th>gender</th>\n",
       "      <th>path</th>\n",
       "      <th>source</th>\n",
       "    </tr>\n",
       "  </thead>\n",
       "  <tbody>\n",
       "    <tr>\n",
       "      <th>0</th>\n",
       "      <td>fear</td>\n",
       "      <td>female</td>\n",
       "      <td>/home/geowilso/code/geowilso/speech-emotion-re...</td>\n",
       "      <td>crema</td>\n",
       "    </tr>\n",
       "    <tr>\n",
       "      <th>1</th>\n",
       "      <td>disgust</td>\n",
       "      <td>male</td>\n",
       "      <td>/home/geowilso/code/geowilso/speech-emotion-re...</td>\n",
       "      <td>crema</td>\n",
       "    </tr>\n",
       "    <tr>\n",
       "      <th>2</th>\n",
       "      <td>sad</td>\n",
       "      <td>male</td>\n",
       "      <td>/home/geowilso/code/geowilso/speech-emotion-re...</td>\n",
       "      <td>crema</td>\n",
       "    </tr>\n",
       "    <tr>\n",
       "      <th>3</th>\n",
       "      <td>happy</td>\n",
       "      <td>female</td>\n",
       "      <td>/home/geowilso/code/geowilso/speech-emotion-re...</td>\n",
       "      <td>crema</td>\n",
       "    </tr>\n",
       "    <tr>\n",
       "      <th>4</th>\n",
       "      <td>angry</td>\n",
       "      <td>male</td>\n",
       "      <td>/home/geowilso/code/geowilso/speech-emotion-re...</td>\n",
       "      <td>crema</td>\n",
       "    </tr>\n",
       "    <tr>\n",
       "      <th>...</th>\n",
       "      <td>...</td>\n",
       "      <td>...</td>\n",
       "      <td>...</td>\n",
       "      <td>...</td>\n",
       "    </tr>\n",
       "    <tr>\n",
       "      <th>474</th>\n",
       "      <td>neutral</td>\n",
       "      <td>male</td>\n",
       "      <td>/home/geowilso/code/geowilso/speech-emotion-re...</td>\n",
       "      <td>savee</td>\n",
       "    </tr>\n",
       "    <tr>\n",
       "      <th>475</th>\n",
       "      <td>disgust</td>\n",
       "      <td>male</td>\n",
       "      <td>/home/geowilso/code/geowilso/speech-emotion-re...</td>\n",
       "      <td>savee</td>\n",
       "    </tr>\n",
       "    <tr>\n",
       "      <th>476</th>\n",
       "      <td>angry</td>\n",
       "      <td>male</td>\n",
       "      <td>/home/geowilso/code/geowilso/speech-emotion-re...</td>\n",
       "      <td>savee</td>\n",
       "    </tr>\n",
       "    <tr>\n",
       "      <th>478</th>\n",
       "      <td>neutral</td>\n",
       "      <td>male</td>\n",
       "      <td>/home/geowilso/code/geowilso/speech-emotion-re...</td>\n",
       "      <td>savee</td>\n",
       "    </tr>\n",
       "    <tr>\n",
       "      <th>479</th>\n",
       "      <td>happy</td>\n",
       "      <td>male</td>\n",
       "      <td>/home/geowilso/code/geowilso/speech-emotion-re...</td>\n",
       "      <td>savee</td>\n",
       "    </tr>\n",
       "  </tbody>\n",
       "</table>\n",
       "<p>11510 rows × 4 columns</p>\n",
       "</div>"
      ],
      "text/plain": [
       "     emotion  gender                                               path source\n",
       "0       fear  female  /home/geowilso/code/geowilso/speech-emotion-re...  crema\n",
       "1    disgust    male  /home/geowilso/code/geowilso/speech-emotion-re...  crema\n",
       "2        sad    male  /home/geowilso/code/geowilso/speech-emotion-re...  crema\n",
       "3      happy  female  /home/geowilso/code/geowilso/speech-emotion-re...  crema\n",
       "4      angry    male  /home/geowilso/code/geowilso/speech-emotion-re...  crema\n",
       "..       ...     ...                                                ...    ...\n",
       "474  neutral    male  /home/geowilso/code/geowilso/speech-emotion-re...  savee\n",
       "475  disgust    male  /home/geowilso/code/geowilso/speech-emotion-re...  savee\n",
       "476    angry    male  /home/geowilso/code/geowilso/speech-emotion-re...  savee\n",
       "478  neutral    male  /home/geowilso/code/geowilso/speech-emotion-re...  savee\n",
       "479    happy    male  /home/geowilso/code/geowilso/speech-emotion-re...  savee\n",
       "\n",
       "[11510 rows x 4 columns]"
      ]
     },
     "execution_count": 168,
     "metadata": {},
     "output_type": "execute_result"
    }
   ],
   "source": [
    "labels = {'disgust':0,'happy':1,'sad':2,'neutral':3,'fear':4,'angry':5}\n",
    "targets.replace({'Emotions':labels},inplace=True)"
   ]
  },
  {
   "cell_type": "code",
   "execution_count": 171,
   "id": "a51e1838",
   "metadata": {},
   "outputs": [
    {
     "name": "stdout",
     "output_type": "stream",
     "text": [
      "0\n",
      "500\n",
      "1000\n",
      "1500\n",
      "2000\n",
      "2500\n",
      "3000\n",
      "3500\n",
      "4000\n",
      "4500\n",
      "5000\n",
      "5500\n",
      "6000\n",
      "6500\n",
      "7000\n",
      "7500\n",
      "8000\n",
      "8500\n",
      "9000\n",
      "9500\n",
      "10000\n",
      "10500\n",
      "11000\n",
      "11500\n"
     ]
    }
   ],
   "source": [
    "num_mfcc=13\n",
    "n_fft=2048\n",
    "hop_length=512\n",
    "SAMPLE_RATE = 22050\n",
    "data = {\n",
    "        \"labels\": [],\n",
    "        \"mfcc\": []\n",
    "    }\n",
    "for i in range(11510):\n",
    "    data['labels'].append(targets.iloc[i,0])\n",
    "    signal, sample_rate = librosa.load(targets.iloc[i,2], sr=SAMPLE_RATE)\n",
    "    mfcc = librosa.feature.mfcc(signal, sample_rate, n_mfcc=13, n_fft=2048, hop_length=512)\n",
    "    mfcc = mfcc.T\n",
    "    data[\"mfcc\"].append(np.asarray(mfcc))"
   ]
  },
  {
   "cell_type": "code",
   "execution_count": 172,
   "id": "b83ad8dd",
   "metadata": {},
   "outputs": [],
   "source": [
    "X = np.asarray(data['mfcc'])\n",
    "y = np.asarray(data[\"labels\"])"
   ]
  },
  {
   "cell_type": "code",
   "execution_count": 173,
   "id": "d434759e",
   "metadata": {},
   "outputs": [
    {
     "data": {
      "text/plain": [
       "(11510, 308, 13)"
      ]
     },
     "execution_count": 173,
     "metadata": {},
     "output_type": "execute_result"
    }
   ],
   "source": [
    "X = tf.keras.preprocessing.sequence.pad_sequences(X)\n",
    "X.shape"
   ]
  },
  {
   "cell_type": "code",
   "execution_count": 174,
   "id": "d1a7a1db",
   "metadata": {},
   "outputs": [],
   "source": [
    "X_train, X_test, y_train, y_test = train_test_split(X, y, test_size=0.1)\n",
    "X_train, X_validation, y_train, y_validation = train_test_split(X_train, y_train, test_size=0.2)"
   ]
  },
  {
   "cell_type": "code",
   "execution_count": 175,
   "id": "a75eeb64",
   "metadata": {},
   "outputs": [],
   "source": [
    "def build_model(input_shape):\n",
    "    model = tf.keras.Sequential()\n",
    "\n",
    "    model.add(LSTM(128, input_shape=input_shape, return_sequences=True))\n",
    "    model.add(LSTM(64))\n",
    "    \n",
    "    model.add(Dense(64, activation='relu'))\n",
    "    model.add(Dropout(0.3))\n",
    "\n",
    "    model.add(Dense(6, activation='softmax'))\n",
    "\n",
    "    return model"
   ]
  },
  {
   "cell_type": "code",
   "execution_count": 176,
   "id": "9d51c74b",
   "metadata": {},
   "outputs": [
    {
     "name": "stdout",
     "output_type": "stream",
     "text": [
      "Model: \"sequential_1\"\n",
      "_________________________________________________________________\n",
      " Layer (type)                Output Shape              Param #   \n",
      "=================================================================\n",
      " lstm_2 (LSTM)               (None, None, 128)         72704     \n",
      "                                                                 \n",
      " lstm_3 (LSTM)               (None, 64)                49408     \n",
      "                                                                 \n",
      " dense_2 (Dense)             (None, 64)                4160      \n",
      "                                                                 \n",
      " dropout_1 (Dropout)         (None, 64)                0         \n",
      "                                                                 \n",
      " dense_3 (Dense)             (None, 6)                 390       \n",
      "                                                                 \n",
      "=================================================================\n",
      "Total params: 126,662\n",
      "Trainable params: 126,662\n",
      "Non-trainable params: 0\n",
      "_________________________________________________________________\n"
     ]
    }
   ],
   "source": [
    "# create network\n",
    "input_shape = (None,13)\n",
    "model = build_model(input_shape)\n",
    "\n",
    "# compile model\n",
    "optimiser = tf.keras.optimizers.Adam(learning_rate=0.001)\n",
    "model.compile(optimizer=optimiser,\n",
    "                  loss='sparse_categorical_crossentropy',\n",
    "                  metrics=['accuracy'])\n",
    "\n",
    "model.summary()"
   ]
  },
  {
   "cell_type": "code",
   "execution_count": 177,
   "id": "a7d71c79",
   "metadata": {},
   "outputs": [
    {
     "name": "stdout",
     "output_type": "stream",
     "text": [
      "Epoch 1/30\n"
     ]
    },
    {
     "name": "stderr",
     "output_type": "stream",
     "text": [
      "2022-03-04 18:29:41.399242: W tensorflow/core/framework/op_kernel.cc:1722] OP_REQUIRES failed at cast_op.cc:121 : UNIMPLEMENTED: Cast string to float is not supported\n"
     ]
    },
    {
     "ename": "UnimplementedError",
     "evalue": "Graph execution error:\n\nDetected at node 'Cast_1' defined at (most recent call last):\n    File \"/home/geowilso/.pyenv/versions/3.8.12/lib/python3.8/runpy.py\", line 194, in _run_module_as_main\n      return _run_code(code, main_globals, None,\n    File \"/home/geowilso/.pyenv/versions/3.8.12/lib/python3.8/runpy.py\", line 87, in _run_code\n      exec(code, run_globals)\n    File \"/home/geowilso/.pyenv/versions/3.8.12/envs/speech-emotion-recognition/lib/python3.8/site-packages/ipykernel_launcher.py\", line 16, in <module>\n      app.launch_new_instance()\n    File \"/home/geowilso/.pyenv/versions/3.8.12/envs/speech-emotion-recognition/lib/python3.8/site-packages/traitlets/config/application.py\", line 846, in launch_instance\n      app.start()\n    File \"/home/geowilso/.pyenv/versions/3.8.12/envs/speech-emotion-recognition/lib/python3.8/site-packages/ipykernel/kernelapp.py\", line 677, in start\n      self.io_loop.start()\n    File \"/home/geowilso/.pyenv/versions/3.8.12/envs/speech-emotion-recognition/lib/python3.8/site-packages/tornado/platform/asyncio.py\", line 199, in start\n      self.asyncio_loop.run_forever()\n    File \"/home/geowilso/.pyenv/versions/3.8.12/lib/python3.8/asyncio/base_events.py\", line 570, in run_forever\n      self._run_once()\n    File \"/home/geowilso/.pyenv/versions/3.8.12/lib/python3.8/asyncio/base_events.py\", line 1859, in _run_once\n      handle._run()\n    File \"/home/geowilso/.pyenv/versions/3.8.12/lib/python3.8/asyncio/events.py\", line 81, in _run\n      self._context.run(self._callback, *self._args)\n    File \"/home/geowilso/.pyenv/versions/3.8.12/envs/speech-emotion-recognition/lib/python3.8/site-packages/ipykernel/kernelbase.py\", line 471, in dispatch_queue\n      await self.process_one()\n    File \"/home/geowilso/.pyenv/versions/3.8.12/envs/speech-emotion-recognition/lib/python3.8/site-packages/ipykernel/kernelbase.py\", line 460, in process_one\n      await dispatch(*args)\n    File \"/home/geowilso/.pyenv/versions/3.8.12/envs/speech-emotion-recognition/lib/python3.8/site-packages/ipykernel/kernelbase.py\", line 367, in dispatch_shell\n      await result\n    File \"/home/geowilso/.pyenv/versions/3.8.12/envs/speech-emotion-recognition/lib/python3.8/site-packages/ipykernel/kernelbase.py\", line 662, in execute_request\n      reply_content = await reply_content\n    File \"/home/geowilso/.pyenv/versions/3.8.12/envs/speech-emotion-recognition/lib/python3.8/site-packages/ipykernel/ipkernel.py\", line 360, in do_execute\n      res = shell.run_cell(code, store_history=store_history, silent=silent)\n    File \"/home/geowilso/.pyenv/versions/3.8.12/envs/speech-emotion-recognition/lib/python3.8/site-packages/ipykernel/zmqshell.py\", line 532, in run_cell\n      return super().run_cell(*args, **kwargs)\n    File \"/home/geowilso/.pyenv/versions/3.8.12/envs/speech-emotion-recognition/lib/python3.8/site-packages/IPython/core/interactiveshell.py\", line 2768, in run_cell\n      result = self._run_cell(\n    File \"/home/geowilso/.pyenv/versions/3.8.12/envs/speech-emotion-recognition/lib/python3.8/site-packages/IPython/core/interactiveshell.py\", line 2814, in _run_cell\n      return runner(coro)\n    File \"/home/geowilso/.pyenv/versions/3.8.12/envs/speech-emotion-recognition/lib/python3.8/site-packages/IPython/core/async_helpers.py\", line 129, in _pseudo_sync_runner\n      coro.send(None)\n    File \"/home/geowilso/.pyenv/versions/3.8.12/envs/speech-emotion-recognition/lib/python3.8/site-packages/IPython/core/interactiveshell.py\", line 3012, in run_cell_async\n      has_raised = await self.run_ast_nodes(code_ast.body, cell_name,\n    File \"/home/geowilso/.pyenv/versions/3.8.12/envs/speech-emotion-recognition/lib/python3.8/site-packages/IPython/core/interactiveshell.py\", line 3191, in run_ast_nodes\n      if await self.run_code(code, result, async_=asy):\n    File \"/home/geowilso/.pyenv/versions/3.8.12/envs/speech-emotion-recognition/lib/python3.8/site-packages/IPython/core/interactiveshell.py\", line 3251, in run_code\n      exec(code_obj, self.user_global_ns, self.user_ns)\n    File \"/tmp/ipykernel_5326/2197069139.py\", line 1, in <module>\n      history = model.fit(X_train, y_train, validation_data=(X_validation, y_validation), batch_size=32, epochs=30)\n    File \"/home/geowilso/.pyenv/versions/3.8.12/envs/speech-emotion-recognition/lib/python3.8/site-packages/keras/utils/traceback_utils.py\", line 64, in error_handler\n      return fn(*args, **kwargs)\n    File \"/home/geowilso/.pyenv/versions/3.8.12/envs/speech-emotion-recognition/lib/python3.8/site-packages/keras/engine/training.py\", line 1384, in fit\n      tmp_logs = self.train_function(iterator)\n    File \"/home/geowilso/.pyenv/versions/3.8.12/envs/speech-emotion-recognition/lib/python3.8/site-packages/keras/engine/training.py\", line 1021, in train_function\n      return step_function(self, iterator)\n    File \"/home/geowilso/.pyenv/versions/3.8.12/envs/speech-emotion-recognition/lib/python3.8/site-packages/keras/engine/training.py\", line 1010, in step_function\n      outputs = model.distribute_strategy.run(run_step, args=(data,))\n    File \"/home/geowilso/.pyenv/versions/3.8.12/envs/speech-emotion-recognition/lib/python3.8/site-packages/keras/engine/training.py\", line 1000, in run_step\n      outputs = model.train_step(data)\n    File \"/home/geowilso/.pyenv/versions/3.8.12/envs/speech-emotion-recognition/lib/python3.8/site-packages/keras/engine/training.py\", line 864, in train_step\n      return self.compute_metrics(x, y, y_pred, sample_weight)\n    File \"/home/geowilso/.pyenv/versions/3.8.12/envs/speech-emotion-recognition/lib/python3.8/site-packages/keras/engine/training.py\", line 957, in compute_metrics\n      self.compiled_metrics.update_state(y, y_pred, sample_weight)\n    File \"/home/geowilso/.pyenv/versions/3.8.12/envs/speech-emotion-recognition/lib/python3.8/site-packages/keras/engine/compile_utils.py\", line 459, in update_state\n      metric_obj.update_state(y_t, y_p, sample_weight=mask)\n    File \"/home/geowilso/.pyenv/versions/3.8.12/envs/speech-emotion-recognition/lib/python3.8/site-packages/keras/utils/metrics_utils.py\", line 70, in decorated\n      update_op = update_state_fn(*args, **kwargs)\n    File \"/home/geowilso/.pyenv/versions/3.8.12/envs/speech-emotion-recognition/lib/python3.8/site-packages/keras/metrics.py\", line 178, in update_state_fn\n      return ag_update_state(*args, **kwargs)\n    File \"/home/geowilso/.pyenv/versions/3.8.12/envs/speech-emotion-recognition/lib/python3.8/site-packages/keras/metrics.py\", line 720, in update_state\n      y_true = tf.cast(y_true, self._dtype)\nNode: 'Cast_1'\nCast string to float is not supported\n\t [[{{node Cast_1}}]] [Op:__inference_train_function_37916]",
     "output_type": "error",
     "traceback": [
      "\u001b[0;31m---------------------------------------------------------------------------\u001b[0m",
      "\u001b[0;31mUnimplementedError\u001b[0m                        Traceback (most recent call last)",
      "Input \u001b[0;32mIn [177]\u001b[0m, in \u001b[0;36m<module>\u001b[0;34m\u001b[0m\n\u001b[0;32m----> 1\u001b[0m history \u001b[38;5;241m=\u001b[39m \u001b[43mmodel\u001b[49m\u001b[38;5;241;43m.\u001b[39;49m\u001b[43mfit\u001b[49m\u001b[43m(\u001b[49m\u001b[43mX_train\u001b[49m\u001b[43m,\u001b[49m\u001b[43m \u001b[49m\u001b[43my_train\u001b[49m\u001b[43m,\u001b[49m\u001b[43m \u001b[49m\u001b[43mvalidation_data\u001b[49m\u001b[38;5;241;43m=\u001b[39;49m\u001b[43m(\u001b[49m\u001b[43mX_validation\u001b[49m\u001b[43m,\u001b[49m\u001b[43m \u001b[49m\u001b[43my_validation\u001b[49m\u001b[43m)\u001b[49m\u001b[43m,\u001b[49m\u001b[43m \u001b[49m\u001b[43mbatch_size\u001b[49m\u001b[38;5;241;43m=\u001b[39;49m\u001b[38;5;241;43m32\u001b[39;49m\u001b[43m,\u001b[49m\u001b[43m \u001b[49m\u001b[43mepochs\u001b[49m\u001b[38;5;241;43m=\u001b[39;49m\u001b[38;5;241;43m30\u001b[39;49m\u001b[43m)\u001b[49m\n",
      "File \u001b[0;32m~/.pyenv/versions/3.8.12/envs/speech-emotion-recognition/lib/python3.8/site-packages/keras/utils/traceback_utils.py:67\u001b[0m, in \u001b[0;36mfilter_traceback.<locals>.error_handler\u001b[0;34m(*args, **kwargs)\u001b[0m\n\u001b[1;32m     65\u001b[0m \u001b[38;5;28;01mexcept\u001b[39;00m \u001b[38;5;167;01mException\u001b[39;00m \u001b[38;5;28;01mas\u001b[39;00m e:  \u001b[38;5;66;03m# pylint: disable=broad-except\u001b[39;00m\n\u001b[1;32m     66\u001b[0m   filtered_tb \u001b[38;5;241m=\u001b[39m _process_traceback_frames(e\u001b[38;5;241m.\u001b[39m__traceback__)\n\u001b[0;32m---> 67\u001b[0m   \u001b[38;5;28;01mraise\u001b[39;00m e\u001b[38;5;241m.\u001b[39mwith_traceback(filtered_tb) \u001b[38;5;28;01mfrom\u001b[39;00m \u001b[38;5;28mNone\u001b[39m\n\u001b[1;32m     68\u001b[0m \u001b[38;5;28;01mfinally\u001b[39;00m:\n\u001b[1;32m     69\u001b[0m   \u001b[38;5;28;01mdel\u001b[39;00m filtered_tb\n",
      "File \u001b[0;32m~/.pyenv/versions/3.8.12/envs/speech-emotion-recognition/lib/python3.8/site-packages/tensorflow/python/eager/execute.py:54\u001b[0m, in \u001b[0;36mquick_execute\u001b[0;34m(op_name, num_outputs, inputs, attrs, ctx, name)\u001b[0m\n\u001b[1;32m     52\u001b[0m \u001b[38;5;28;01mtry\u001b[39;00m:\n\u001b[1;32m     53\u001b[0m   ctx\u001b[38;5;241m.\u001b[39mensure_initialized()\n\u001b[0;32m---> 54\u001b[0m   tensors \u001b[38;5;241m=\u001b[39m pywrap_tfe\u001b[38;5;241m.\u001b[39mTFE_Py_Execute(ctx\u001b[38;5;241m.\u001b[39m_handle, device_name, op_name,\n\u001b[1;32m     55\u001b[0m                                       inputs, attrs, num_outputs)\n\u001b[1;32m     56\u001b[0m \u001b[38;5;28;01mexcept\u001b[39;00m core\u001b[38;5;241m.\u001b[39m_NotOkStatusException \u001b[38;5;28;01mas\u001b[39;00m e:\n\u001b[1;32m     57\u001b[0m   \u001b[38;5;28;01mif\u001b[39;00m name \u001b[38;5;129;01mis\u001b[39;00m \u001b[38;5;129;01mnot\u001b[39;00m \u001b[38;5;28;01mNone\u001b[39;00m:\n",
      "\u001b[0;31mUnimplementedError\u001b[0m: Graph execution error:\n\nDetected at node 'Cast_1' defined at (most recent call last):\n    File \"/home/geowilso/.pyenv/versions/3.8.12/lib/python3.8/runpy.py\", line 194, in _run_module_as_main\n      return _run_code(code, main_globals, None,\n    File \"/home/geowilso/.pyenv/versions/3.8.12/lib/python3.8/runpy.py\", line 87, in _run_code\n      exec(code, run_globals)\n    File \"/home/geowilso/.pyenv/versions/3.8.12/envs/speech-emotion-recognition/lib/python3.8/site-packages/ipykernel_launcher.py\", line 16, in <module>\n      app.launch_new_instance()\n    File \"/home/geowilso/.pyenv/versions/3.8.12/envs/speech-emotion-recognition/lib/python3.8/site-packages/traitlets/config/application.py\", line 846, in launch_instance\n      app.start()\n    File \"/home/geowilso/.pyenv/versions/3.8.12/envs/speech-emotion-recognition/lib/python3.8/site-packages/ipykernel/kernelapp.py\", line 677, in start\n      self.io_loop.start()\n    File \"/home/geowilso/.pyenv/versions/3.8.12/envs/speech-emotion-recognition/lib/python3.8/site-packages/tornado/platform/asyncio.py\", line 199, in start\n      self.asyncio_loop.run_forever()\n    File \"/home/geowilso/.pyenv/versions/3.8.12/lib/python3.8/asyncio/base_events.py\", line 570, in run_forever\n      self._run_once()\n    File \"/home/geowilso/.pyenv/versions/3.8.12/lib/python3.8/asyncio/base_events.py\", line 1859, in _run_once\n      handle._run()\n    File \"/home/geowilso/.pyenv/versions/3.8.12/lib/python3.8/asyncio/events.py\", line 81, in _run\n      self._context.run(self._callback, *self._args)\n    File \"/home/geowilso/.pyenv/versions/3.8.12/envs/speech-emotion-recognition/lib/python3.8/site-packages/ipykernel/kernelbase.py\", line 471, in dispatch_queue\n      await self.process_one()\n    File \"/home/geowilso/.pyenv/versions/3.8.12/envs/speech-emotion-recognition/lib/python3.8/site-packages/ipykernel/kernelbase.py\", line 460, in process_one\n      await dispatch(*args)\n    File \"/home/geowilso/.pyenv/versions/3.8.12/envs/speech-emotion-recognition/lib/python3.8/site-packages/ipykernel/kernelbase.py\", line 367, in dispatch_shell\n      await result\n    File \"/home/geowilso/.pyenv/versions/3.8.12/envs/speech-emotion-recognition/lib/python3.8/site-packages/ipykernel/kernelbase.py\", line 662, in execute_request\n      reply_content = await reply_content\n    File \"/home/geowilso/.pyenv/versions/3.8.12/envs/speech-emotion-recognition/lib/python3.8/site-packages/ipykernel/ipkernel.py\", line 360, in do_execute\n      res = shell.run_cell(code, store_history=store_history, silent=silent)\n    File \"/home/geowilso/.pyenv/versions/3.8.12/envs/speech-emotion-recognition/lib/python3.8/site-packages/ipykernel/zmqshell.py\", line 532, in run_cell\n      return super().run_cell(*args, **kwargs)\n    File \"/home/geowilso/.pyenv/versions/3.8.12/envs/speech-emotion-recognition/lib/python3.8/site-packages/IPython/core/interactiveshell.py\", line 2768, in run_cell\n      result = self._run_cell(\n    File \"/home/geowilso/.pyenv/versions/3.8.12/envs/speech-emotion-recognition/lib/python3.8/site-packages/IPython/core/interactiveshell.py\", line 2814, in _run_cell\n      return runner(coro)\n    File \"/home/geowilso/.pyenv/versions/3.8.12/envs/speech-emotion-recognition/lib/python3.8/site-packages/IPython/core/async_helpers.py\", line 129, in _pseudo_sync_runner\n      coro.send(None)\n    File \"/home/geowilso/.pyenv/versions/3.8.12/envs/speech-emotion-recognition/lib/python3.8/site-packages/IPython/core/interactiveshell.py\", line 3012, in run_cell_async\n      has_raised = await self.run_ast_nodes(code_ast.body, cell_name,\n    File \"/home/geowilso/.pyenv/versions/3.8.12/envs/speech-emotion-recognition/lib/python3.8/site-packages/IPython/core/interactiveshell.py\", line 3191, in run_ast_nodes\n      if await self.run_code(code, result, async_=asy):\n    File \"/home/geowilso/.pyenv/versions/3.8.12/envs/speech-emotion-recognition/lib/python3.8/site-packages/IPython/core/interactiveshell.py\", line 3251, in run_code\n      exec(code_obj, self.user_global_ns, self.user_ns)\n    File \"/tmp/ipykernel_5326/2197069139.py\", line 1, in <module>\n      history = model.fit(X_train, y_train, validation_data=(X_validation, y_validation), batch_size=32, epochs=30)\n    File \"/home/geowilso/.pyenv/versions/3.8.12/envs/speech-emotion-recognition/lib/python3.8/site-packages/keras/utils/traceback_utils.py\", line 64, in error_handler\n      return fn(*args, **kwargs)\n    File \"/home/geowilso/.pyenv/versions/3.8.12/envs/speech-emotion-recognition/lib/python3.8/site-packages/keras/engine/training.py\", line 1384, in fit\n      tmp_logs = self.train_function(iterator)\n    File \"/home/geowilso/.pyenv/versions/3.8.12/envs/speech-emotion-recognition/lib/python3.8/site-packages/keras/engine/training.py\", line 1021, in train_function\n      return step_function(self, iterator)\n    File \"/home/geowilso/.pyenv/versions/3.8.12/envs/speech-emotion-recognition/lib/python3.8/site-packages/keras/engine/training.py\", line 1010, in step_function\n      outputs = model.distribute_strategy.run(run_step, args=(data,))\n    File \"/home/geowilso/.pyenv/versions/3.8.12/envs/speech-emotion-recognition/lib/python3.8/site-packages/keras/engine/training.py\", line 1000, in run_step\n      outputs = model.train_step(data)\n    File \"/home/geowilso/.pyenv/versions/3.8.12/envs/speech-emotion-recognition/lib/python3.8/site-packages/keras/engine/training.py\", line 864, in train_step\n      return self.compute_metrics(x, y, y_pred, sample_weight)\n    File \"/home/geowilso/.pyenv/versions/3.8.12/envs/speech-emotion-recognition/lib/python3.8/site-packages/keras/engine/training.py\", line 957, in compute_metrics\n      self.compiled_metrics.update_state(y, y_pred, sample_weight)\n    File \"/home/geowilso/.pyenv/versions/3.8.12/envs/speech-emotion-recognition/lib/python3.8/site-packages/keras/engine/compile_utils.py\", line 459, in update_state\n      metric_obj.update_state(y_t, y_p, sample_weight=mask)\n    File \"/home/geowilso/.pyenv/versions/3.8.12/envs/speech-emotion-recognition/lib/python3.8/site-packages/keras/utils/metrics_utils.py\", line 70, in decorated\n      update_op = update_state_fn(*args, **kwargs)\n    File \"/home/geowilso/.pyenv/versions/3.8.12/envs/speech-emotion-recognition/lib/python3.8/site-packages/keras/metrics.py\", line 178, in update_state_fn\n      return ag_update_state(*args, **kwargs)\n    File \"/home/geowilso/.pyenv/versions/3.8.12/envs/speech-emotion-recognition/lib/python3.8/site-packages/keras/metrics.py\", line 720, in update_state\n      y_true = tf.cast(y_true, self._dtype)\nNode: 'Cast_1'\nCast string to float is not supported\n\t [[{{node Cast_1}}]] [Op:__inference_train_function_37916]"
     ]
    }
   ],
   "source": [
    "history = model.fit(X_train, y_train, validation_data=(X_validation, y_validation), batch_size=32, epochs=30)"
   ]
  },
  {
   "cell_type": "code",
   "execution_count": null,
   "id": "a69cb2e4",
   "metadata": {},
   "outputs": [],
   "source": [
    "model"
   ]
  },
  {
   "cell_type": "code",
   "execution_count": null,
   "id": "34dc3d51",
   "metadata": {},
   "outputs": [],
   "source": [
    "test_loss, test_acc = model.evaluate(X_test, y_test, verbose=0)\n",
    "print(\"Test Accuracy: \",test_acc)"
   ]
  },
  {
   "cell_type": "code",
   "execution_count": null,
   "id": "d9bb8450",
   "metadata": {},
   "outputs": [],
   "source": [
    "model.predict()"
   ]
  },
  {
   "cell_type": "code",
   "execution_count": null,
   "id": "9421e639",
   "metadata": {},
   "outputs": [],
   "source": [
    "confusion_matrix()"
   ]
  },
  {
   "cell_type": "code",
   "execution_count": 184,
   "id": "9fa10256",
   "metadata": {},
   "outputs": [
    {
     "data": {
      "text/plain": [
       "11510"
      ]
     },
     "execution_count": 184,
     "metadata": {},
     "output_type": "execute_result"
    }
   ],
   "source": [
    "targets['path'].nunique()"
   ]
  },
  {
   "cell_type": "code",
   "execution_count": 190,
   "id": "93b50952",
   "metadata": {},
   "outputs": [
    {
     "data": {
      "text/html": [
       "<div>\n",
       "<style scoped>\n",
       "    .dataframe tbody tr th:only-of-type {\n",
       "        vertical-align: middle;\n",
       "    }\n",
       "\n",
       "    .dataframe tbody tr th {\n",
       "        vertical-align: top;\n",
       "    }\n",
       "\n",
       "    .dataframe thead th {\n",
       "        text-align: right;\n",
       "    }\n",
       "</style>\n",
       "<table border=\"1\" class=\"dataframe\">\n",
       "  <thead>\n",
       "    <tr style=\"text-align: right;\">\n",
       "      <th></th>\n",
       "      <th>emotion</th>\n",
       "      <th>gender</th>\n",
       "      <th>path</th>\n",
       "      <th>source</th>\n",
       "    </tr>\n",
       "  </thead>\n",
       "  <tbody>\n",
       "    <tr>\n",
       "      <th>1</th>\n",
       "      <td>disgust</td>\n",
       "      <td>male</td>\n",
       "      <td>/home/geowilso/code/geowilso/speech-emotion-re...</td>\n",
       "      <td>crema</td>\n",
       "    </tr>\n",
       "    <tr>\n",
       "      <th>7</th>\n",
       "      <td>disgust</td>\n",
       "      <td>male</td>\n",
       "      <td>/home/geowilso/code/geowilso/speech-emotion-re...</td>\n",
       "      <td>crema</td>\n",
       "    </tr>\n",
       "    <tr>\n",
       "      <th>11</th>\n",
       "      <td>disgust</td>\n",
       "      <td>female</td>\n",
       "      <td>/home/geowilso/code/geowilso/speech-emotion-re...</td>\n",
       "      <td>crema</td>\n",
       "    </tr>\n",
       "    <tr>\n",
       "      <th>16</th>\n",
       "      <td>disgust</td>\n",
       "      <td>male</td>\n",
       "      <td>/home/geowilso/code/geowilso/speech-emotion-re...</td>\n",
       "      <td>crema</td>\n",
       "    </tr>\n",
       "    <tr>\n",
       "      <th>22</th>\n",
       "      <td>disgust</td>\n",
       "      <td>female</td>\n",
       "      <td>/home/geowilso/code/geowilso/speech-emotion-re...</td>\n",
       "      <td>crema</td>\n",
       "    </tr>\n",
       "    <tr>\n",
       "      <th>...</th>\n",
       "      <td>...</td>\n",
       "      <td>...</td>\n",
       "      <td>...</td>\n",
       "      <td>...</td>\n",
       "    </tr>\n",
       "    <tr>\n",
       "      <th>437</th>\n",
       "      <td>disgust</td>\n",
       "      <td>male</td>\n",
       "      <td>/home/geowilso/code/geowilso/speech-emotion-re...</td>\n",
       "      <td>savee</td>\n",
       "    </tr>\n",
       "    <tr>\n",
       "      <th>449</th>\n",
       "      <td>disgust</td>\n",
       "      <td>male</td>\n",
       "      <td>/home/geowilso/code/geowilso/speech-emotion-re...</td>\n",
       "      <td>savee</td>\n",
       "    </tr>\n",
       "    <tr>\n",
       "      <th>463</th>\n",
       "      <td>disgust</td>\n",
       "      <td>male</td>\n",
       "      <td>/home/geowilso/code/geowilso/speech-emotion-re...</td>\n",
       "      <td>savee</td>\n",
       "    </tr>\n",
       "    <tr>\n",
       "      <th>468</th>\n",
       "      <td>disgust</td>\n",
       "      <td>male</td>\n",
       "      <td>/home/geowilso/code/geowilso/speech-emotion-re...</td>\n",
       "      <td>savee</td>\n",
       "    </tr>\n",
       "    <tr>\n",
       "      <th>475</th>\n",
       "      <td>disgust</td>\n",
       "      <td>male</td>\n",
       "      <td>/home/geowilso/code/geowilso/speech-emotion-re...</td>\n",
       "      <td>savee</td>\n",
       "    </tr>\n",
       "  </tbody>\n",
       "</table>\n",
       "<p>1923 rows × 4 columns</p>\n",
       "</div>"
      ],
      "text/plain": [
       "     emotion  gender                                               path source\n",
       "1    disgust    male  /home/geowilso/code/geowilso/speech-emotion-re...  crema\n",
       "7    disgust    male  /home/geowilso/code/geowilso/speech-emotion-re...  crema\n",
       "11   disgust  female  /home/geowilso/code/geowilso/speech-emotion-re...  crema\n",
       "16   disgust    male  /home/geowilso/code/geowilso/speech-emotion-re...  crema\n",
       "22   disgust  female  /home/geowilso/code/geowilso/speech-emotion-re...  crema\n",
       "..       ...     ...                                                ...    ...\n",
       "437  disgust    male  /home/geowilso/code/geowilso/speech-emotion-re...  savee\n",
       "449  disgust    male  /home/geowilso/code/geowilso/speech-emotion-re...  savee\n",
       "463  disgust    male  /home/geowilso/code/geowilso/speech-emotion-re...  savee\n",
       "468  disgust    male  /home/geowilso/code/geowilso/speech-emotion-re...  savee\n",
       "475  disgust    male  /home/geowilso/code/geowilso/speech-emotion-re...  savee\n",
       "\n",
       "[1923 rows x 4 columns]"
      ]
     },
     "execution_count": 190,
     "metadata": {},
     "output_type": "execute_result"
    }
   ],
   "source": [
    "targets[targets['emotion']=='disgust']"
   ]
  },
  {
   "cell_type": "code",
   "execution_count": null,
   "id": "a463c2ed",
   "metadata": {},
   "outputs": [],
   "source": [
    "1923"
   ]
  },
  {
   "cell_type": "code",
   "execution_count": 196,
   "id": "95c12841",
   "metadata": {},
   "outputs": [
    {
     "data": {
      "text/plain": [
       "12162"
      ]
     },
     "execution_count": 196,
     "metadata": {},
     "output_type": "execute_result"
    }
   ],
   "source": [
    "crema_df.shape[0]+tess_df.shape[0]+ravdess_df.shape[0]+savee_df.shape[0]"
   ]
  },
  {
   "cell_type": "code",
   "execution_count": 192,
   "id": "41971084",
   "metadata": {},
   "outputs": [
    {
     "data": {
      "text/plain": [
       "(2800, 4)"
      ]
     },
     "execution_count": 192,
     "metadata": {},
     "output_type": "execute_result"
    }
   ],
   "source": [
    "tess_df.shape[0]"
   ]
  },
  {
   "cell_type": "code",
   "execution_count": 193,
   "id": "0b256746",
   "metadata": {},
   "outputs": [
    {
     "data": {
      "text/plain": [
       "(1440, 4)"
      ]
     },
     "execution_count": 193,
     "metadata": {},
     "output_type": "execute_result"
    }
   ],
   "source": [
    "ravdess_df.shape[0]"
   ]
  },
  {
   "cell_type": "code",
   "execution_count": 194,
   "id": "703575a0",
   "metadata": {},
   "outputs": [
    {
     "data": {
      "text/plain": [
       "(480, 4)"
      ]
     },
     "execution_count": 194,
     "metadata": {},
     "output_type": "execute_result"
    }
   ],
   "source": [
    "savee_df.shape[0]"
   ]
  },
  {
   "cell_type": "code",
   "execution_count": 197,
   "id": "919e484f",
   "metadata": {},
   "outputs": [
    {
     "data": {
      "text/plain": [
       "(11510, 4)"
      ]
     },
     "execution_count": 197,
     "metadata": {},
     "output_type": "execute_result"
    }
   ],
   "source": [
    "targets.shape"
   ]
  },
  {
   "cell_type": "code",
   "execution_count": 207,
   "id": "618fe2e4",
   "metadata": {},
   "outputs": [
    {
     "data": {
      "text/plain": [
       "array(['fear', 'disgust', 'sad', 'happy', 'angry', 'neutral', 'surprise'],\n",
       "      dtype=object)"
      ]
     },
     "execution_count": 207,
     "metadata": {},
     "output_type": "execute_result"
    }
   ],
   "source": [
    "targets = pd.concat([crema_df,tess_df,ravdess_df,savee_df])\n",
    "targets['emotion'].unique()"
   ]
  },
  {
   "cell_type": "code",
   "execution_count": 199,
   "id": "1c55eb0f",
   "metadata": {},
   "outputs": [
    {
     "data": {
      "text/plain": [
       "(12162, 4)"
      ]
     },
     "execution_count": 199,
     "metadata": {},
     "output_type": "execute_result"
    }
   ],
   "source": [
    "targets.shape"
   ]
  },
  {
   "cell_type": "code",
   "execution_count": 200,
   "id": "b427c6f2",
   "metadata": {},
   "outputs": [
    {
     "data": {
      "text/plain": [
       "(7664, 4)"
      ]
     },
     "execution_count": 200,
     "metadata": {},
     "output_type": "execute_result"
    }
   ],
   "source": [
    "targets = targets[targets['emotion']!='surprise']\n",
    "targets = targets[targets['emotion']!='fear']\n",
    "targets = targets[targets['emotion']!='disgust']\n",
    "targets.shape"
   ]
  },
  {
   "cell_type": "code",
   "execution_count": null,
   "id": "fb61f682",
   "metadata": {},
   "outputs": [],
   "source": [
    "targ"
   ]
  }
 ],
 "metadata": {
  "kernelspec": {
   "display_name": "Python 3 (ipykernel)",
   "language": "python",
   "name": "python3"
  },
  "language_info": {
   "codemirror_mode": {
    "name": "ipython",
    "version": 3
   },
   "file_extension": ".py",
   "mimetype": "text/x-python",
   "name": "python",
   "nbconvert_exporter": "python",
   "pygments_lexer": "ipython3",
   "version": "3.8.12"
  },
  "toc": {
   "base_numbering": 1,
   "nav_menu": {},
   "number_sections": true,
   "sideBar": true,
   "skip_h1_title": false,
   "title_cell": "Table of Contents",
   "title_sidebar": "Contents",
   "toc_cell": false,
   "toc_position": {},
   "toc_section_display": true,
   "toc_window_display": false
  }
 },
 "nbformat": 4,
 "nbformat_minor": 5
}
