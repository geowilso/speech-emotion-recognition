{
 "cells": [
  {
   "cell_type": "code",
   "execution_count": 2,
   "id": "9302befc",
   "metadata": {},
   "outputs": [],
   "source": [
    "import pandas as pd\n",
    "import numpy as np\n",
    "\n",
    "import os\n",
    "import sys\n",
    "\n",
    "# librosa is a Python library for analyzing audio and music. It can be used to extract the data from the audio files we will see it later.\n",
    "import librosa\n",
    "import librosa.display\n",
    "import seaborn as sns\n",
    "import matplotlib.pyplot as plt\n",
    "%matplotlib inline\n",
    "\n",
    "from sklearn.preprocessing import StandardScaler, OneHotEncoder\n",
    "from sklearn.metrics import confusion_matrix, classification_report\n",
    "from sklearn.model_selection import train_test_split\n",
    "\n",
    "# to play the audio files\n",
    "from IPython.display import Audio\n",
    "\n",
    "import warnings"
   ]
  },
  {
   "cell_type": "code",
   "execution_count": 3,
   "id": "fd9aa7f7",
   "metadata": {},
   "outputs": [
    {
     "name": "stdout",
     "output_type": "stream",
     "text": [
      "['1001_DFA_ANG_XX.wav', '1001_DFA_DIS_XX.wav', '1001_DFA_FEA_XX.wav', '1001_DFA_HAP_XX.wav', '1001_DFA_NEU_XX.wav', '1001_DFA_SAD_XX.wav', '1001_IEO_ANG_HI.wav', '1001_IEO_ANG_LO.wav', '1001_IEO_ANG_MD.wav', '1001_IEO_DIS_HI.wav']\n"
     ]
    }
   ],
   "source": [
    "CREMA = '../raw_data/wav_files/'\n",
    "dir_list = os.listdir(CREMA)\n",
    "dir_list.sort()\n",
    "print(dir_list[0:10])"
   ]
  },
  {
   "cell_type": "code",
   "execution_count": 1,
   "id": "5352a192",
   "metadata": {},
   "outputs": [
    {
     "name": "stdout",
     "output_type": "stream",
     "text": [
      "No_file_found\n"
     ]
    }
   ],
   "source": [
    "#Finding corrupted files\n",
    "\n",
    "def verifying_audio_files(file_name):\n",
    "    try: #needed if the file_name does'nt exist\n",
    "        fname = CREMA + file_name \n",
    "        data, sampling_rate = librosa.load(fname)\n",
    "        melspectogram_mean = np.mean(librosa.feature.melspectrogram(data, sr=sampling_rate))\n",
    "        if melspectogram_mean != 0:\n",
    "            print(\"File_Working\") #everything is fine(🐕🔥)\n",
    "        else:\n",
    "            print(\"File_corrupted\") # 👮\n",
    "    except:\n",
    "        print(\"No_file_found\") #🔎\n",
    "\n",
    "verifying_audio_files(\"0001_NEF_NEF_XX.wav\")\n",
    "#Existing '1091_IWW_SAD_XX.wav'\n",
    "#Not existing'0001_NEF_NEF_XX.wav'\n",
    "#Corrupted'1076_MTI_SAD_XX.wav\""
   ]
  },
  {
   "cell_type": "code",
   "execution_count": null,
   "id": "796137d2",
   "metadata": {},
   "outputs": [],
   "source": []
  }
 ],
 "metadata": {
  "kernelspec": {
   "display_name": "Python 3 (ipykernel)",
   "language": "python",
   "name": "python3"
  },
  "language_info": {
   "codemirror_mode": {
    "name": "ipython",
    "version": 3
   },
   "file_extension": ".py",
   "mimetype": "text/x-python",
   "name": "python",
   "nbconvert_exporter": "python",
   "pygments_lexer": "ipython3",
   "version": "3.8.12"
  },
  "toc": {
   "base_numbering": 1,
   "nav_menu": {},
   "number_sections": true,
   "sideBar": true,
   "skip_h1_title": false,
   "title_cell": "Table of Contents",
   "title_sidebar": "Contents",
   "toc_cell": false,
   "toc_position": {},
   "toc_section_display": true,
   "toc_window_display": false
  }
 },
 "nbformat": 4,
 "nbformat_minor": 5
}
