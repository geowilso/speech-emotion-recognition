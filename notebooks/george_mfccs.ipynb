{
 "cells": [
  {
   "cell_type": "markdown",
   "id": "5d893abf",
   "metadata": {},
   "source": [
    "# Data visualisation and exploration"
   ]
  },
  {
   "cell_type": "code",
   "execution_count": null,
   "id": "436aaf42",
   "metadata": {},
   "outputs": [],
   "source": [
    "import pandas as pd\n",
    "import numpy as np\n",
    "\n",
    "import os\n",
    "import sys\n",
    "\n",
    "# librosa is a Python library for analyzing audio and music. It can be used to extract the data from the audio files we will see it later.\n",
    "import librosa\n",
    "import librosa.display\n",
    "import seaborn as sns\n",
    "import matplotlib.pyplot as plt\n",
    "%matplotlib inline\n",
    "\n",
    "from sklearn.preprocessing import StandardScaler, OneHotEncoder\n",
    "from sklearn.metrics import confusion_matrix, classification_report\n",
    "from sklearn.model_selection import train_test_split\n",
    "\n",
    "# to play the audio files\n",
    "from IPython.display import Audio\n",
    "\n",
    "import warnings\n",
    "\n",
    "from tensorflow.keras.preprocessing.sequence import pad_sequences\n",
    "\n",
    "from tqdm import tqdm, tqdm_pandas"
   ]
  },
  {
   "cell_type": "code",
   "execution_count": null,
   "id": "33c8b4c3",
   "metadata": {},
   "outputs": [],
   "source": [
    "CREMA = '../raw_data/wav_files/'\n",
    "dir_list = os.listdir(CREMA)\n",
    "dir_list.sort()\n",
    "print(dir_list[0:10])"
   ]
  },
  {
   "cell_type": "code",
   "execution_count": null,
   "id": "de0440f3",
   "metadata": {
    "scrolled": true
   },
   "outputs": [],
   "source": [
    "gender = []\n",
    "emotion = []\n",
    "path = []\n",
    "female = [1002,1003,1004,1006,1007,1008,1009,1010,1012,1013,1018,1020,1021,1024,1025,1028,1029,1030,1037,1043,1046,1047,1049,\n",
    "          1052,1053,1054,1055,1056,1058,1060,1061,1063,1072,1073,1074,1075,1076,1078,1079,1082,1084,1089,1091]\n",
    "\n",
    "for i in dir_list: \n",
    "    part = i.split('_')\n",
    "    if int(part[0]) in female:\n",
    "        temp = 'female'\n",
    "    else:\n",
    "        temp = 'male'\n",
    "    gender.append(temp)\n",
    "    \n",
    "    if part[2] == 'SAD':\n",
    "        emotion.append('sad')\n",
    "    elif part[2] == 'ANG':\n",
    "        emotion.append('angry')\n",
    "    elif part[2] == 'DIS':\n",
    "        emotion.append('disgust')\n",
    "    elif part[2] == 'FEA':\n",
    "        emotion.append('fear')\n",
    "    elif part[2] == 'HAP':\n",
    "        emotion.append('happy')\n",
    "    elif part[2] == 'NEU':\n",
    "        emotion.append('neutral')\n",
    "    else:\n",
    "        emotion.append('unknown')\n",
    "    path.append(CREMA + i)\n",
    "    \n",
    "CREMA_df = pd.DataFrame(emotion, columns = ['emotion'])\n",
    "#CREMA_df['source'] = 'CREMA'\n",
    "CREMA_df = pd.concat([CREMA_df,pd.DataFrame(gender, columns = ['gender'])],axis=1)\n",
    "CREMA_df = pd.concat([CREMA_df,pd.DataFrame(path, columns = ['path'])],axis=1)"
   ]
  },
  {
   "cell_type": "code",
   "execution_count": null,
   "id": "f3bb723c",
   "metadata": {},
   "outputs": [],
   "source": [
    "def combo(df):\n",
    "    return f'{df[1]}_{df[0]}'\n",
    "\n",
    "def sad(x):\n",
    "    return 1 if x.lower() == 'sad' else 0\n",
    "\n",
    "def angry(x):\n",
    "    return 1 if x.lower() == 'angry' else 0\n",
    "\n",
    "def disgust(x):\n",
    "    return 1 if x.lower() == 'disgust' else 0\n",
    "\n",
    "def fear(x):\n",
    "    return 1 if x.lower() == 'fear' else 0\n",
    "\n",
    "def happy(x):\n",
    "    return 1 if x.lower() == 'happy' else 0\n",
    "\n",
    "def neutral(x):\n",
    "    return 1 if x.lower() == 'neutral' else 0"
   ]
  },
  {
   "cell_type": "code",
   "execution_count": null,
   "id": "07447db3",
   "metadata": {},
   "outputs": [],
   "source": [
    "CREMA_df['gender_emotion'] = CREMA_df.apply(combo,axis=1)\n",
    "CREMA_df['sad'] = CREMA_df['emotion'].apply(sad)\n",
    "CREMA_df['angry'] = CREMA_df['emotion'].apply(angry)\n",
    "CREMA_df['disgust'] = CREMA_df['emotion'].apply(disgust)\n",
    "CREMA_df['fear'] = CREMA_df['emotion'].apply(fear)\n",
    "CREMA_df['happy'] = CREMA_df['emotion'].apply(happy)\n",
    "CREMA_df['neutral'] = CREMA_df['emotion'].apply(neutral)"
   ]
  },
  {
   "cell_type": "code",
   "execution_count": null,
   "id": "9f634ecc",
   "metadata": {},
   "outputs": [],
   "source": [
    "CREMA_df"
   ]
  },
  {
   "cell_type": "code",
   "execution_count": null,
   "id": "cb88a2a1",
   "metadata": {},
   "outputs": [],
   "source": [
    "plt.figure(figsize=(8,5))\n",
    "sns.histplot(CREMA_df.emotion);"
   ]
  },
  {
   "cell_type": "code",
   "execution_count": null,
   "id": "cd7660a5",
   "metadata": {},
   "outputs": [],
   "source": [
    "plt.figure(figsize=(4,5))\n",
    "sns.histplot(CREMA_df.gender);"
   ]
  },
  {
   "cell_type": "code",
   "execution_count": null,
   "id": "a361fe70",
   "metadata": {},
   "outputs": [],
   "source": [
    "plt.figure(figsize=(18,5))\n",
    "sns.histplot(CREMA_df.gender_emotion);"
   ]
  },
  {
   "cell_type": "code",
   "execution_count": null,
   "id": "cb3f08fc",
   "metadata": {
    "scrolled": true
   },
   "outputs": [],
   "source": [
    "# use the well known Librosa library for this task \n",
    "fname = CREMA + '1029_IWW_HAP_XX.wav'  \n",
    "data, sampling_rate = librosa.load(\n",
    "    fname,\n",
    "    sr=44100,\n",
    "    mono=True,\n",
    "    offset=0.0,\n",
    "    duration=None,\n",
    "    res_type='kaiser_best')\n",
    "\n",
    "plt.figure(figsize=(15, 5))\n",
    "librosa.display.waveshow(data, sr=sampling_rate)\n",
    "\n",
    "# Lets play the audio \n",
    "Audio(fname)"
   ]
  },
  {
   "cell_type": "code",
   "execution_count": null,
   "id": "8204598c",
   "metadata": {
    "scrolled": true
   },
   "outputs": [],
   "source": [
    "SAMPLE_RATE = 44100  \n",
    "y, sr = librosa.load(fname, sr=SAMPLE_RATE, duration = 5) # Chop audio at 5 secs... \n",
    "mfcc = librosa.feature.mfcc(y=y,\n",
    "                            sr=SAMPLE_RATE,\n",
    "                            S=None,\n",
    "                            n_mfcc=8,\n",
    "                            dct_type=2,\n",
    "                            norm='ortho',\n",
    "                            lifter=0,)\n",
    "\n",
    "mfcc.shape\n",
    "plt.figure(figsize=(12, 6))\n",
    "plt.subplot(3,1,1)\n",
    "librosa.display.specshow(mfcc)\n",
    "plt.ylabel('MFCC')\n",
    "plt.colorbar();"
   ]
  },
  {
   "cell_type": "code",
   "execution_count": null,
   "id": "91504edc",
   "metadata": {},
   "outputs": [],
   "source": [
    "mfcc.shape"
   ]
  },
  {
   "cell_type": "code",
   "execution_count": null,
   "id": "0f43a415",
   "metadata": {},
   "outputs": [],
   "source": [
    "y, sr = librosa.load(fname, sr=SAMPLE_RATE, duration = 5) # Chop audio at 5 secs... \n",
    "melspec = librosa.feature.melspectrogram(y,\n",
    "                                         sr=sr,\n",
    "                                         n_mels=128,\n",
    "                                         n_fft=2048,\n",
    "                                         hop_length=512,\n",
    "                                         win_length=None,\n",
    "                                         window='hann',\n",
    "                                         center=True,\n",
    "                                         pad_mode='constant',\n",
    "                                         power=2.0)\n",
    "\n",
    "# Convert to log scale (dB). We'll use the peak power (max) as reference.\n",
    "log_S = librosa.amplitude_to_db(melspec)\n",
    "\n",
    "# Display the log mel spectrogram\n",
    "plt.figure(figsize=(12,4))\n",
    "librosa.display.specshow(log_S, sr=sr, x_axis='time', y_axis='mel')\n",
    "plt.colorbar(format='%+02.0f dB')\n",
    "plt.tight_layout();"
   ]
  },
  {
   "cell_type": "code",
   "execution_count": null,
   "id": "55c257cc",
   "metadata": {},
   "outputs": [],
   "source": [
    "log_S.shape"
   ]
  },
  {
   "cell_type": "code",
   "execution_count": null,
   "id": "9389a377",
   "metadata": {},
   "outputs": [],
   "source": [
    "y, sr = librosa.load(fname, sr=SAMPLE_RATE, duration = 5) \n",
    "y_harmonic, y_percussive = librosa.effects.hpss(y)\n",
    "Audio(y_harmonic, rate=sr)"
   ]
  },
  {
   "cell_type": "code",
   "execution_count": null,
   "id": "b52c8630",
   "metadata": {},
   "outputs": [],
   "source": [
    "Audio(y_percussive, rate=sr)"
   ]
  },
  {
   "cell_type": "code",
   "execution_count": null,
   "id": "e492c3bb",
   "metadata": {},
   "outputs": [],
   "source": [
    "# harmonic \n",
    "melspec = librosa.feature.melspectrogram(y_harmonic, sr=sr, n_mels=128)\n",
    "log_h = librosa.amplitude_to_db(melspec)\n",
    "\n",
    "# percussive\n",
    "melspec = librosa.feature.melspectrogram(y_percussive, sr=sr, n_mels=128)\n",
    "log_p = librosa.amplitude_to_db(melspec)\n",
    "\n",
    "# Display the log mel spectrogram of both harmonic and percussive\n",
    "plt.figure(figsize=(12,6))\n",
    "\n",
    "plt.subplot(2,1,1)\n",
    "librosa.display.specshow(log_h, sr=sr, x_axis='time', y_axis='mel')\n",
    "plt.title('harmonic')\n",
    "plt.colorbar(format='%+02.0f dB')\n",
    "\n",
    "plt.subplot(2,1,2)\n",
    "librosa.display.specshow(log_p, sr=sr, x_axis='time', y_axis='mel')\n",
    "plt.title('percussive')\n",
    "plt.colorbar(format='%+02.0f dB')"
   ]
  },
  {
   "cell_type": "code",
   "execution_count": null,
   "id": "ee9ce715",
   "metadata": {
    "scrolled": true
   },
   "outputs": [],
   "source": [
    "y, sr = librosa.load(fname, sr=SAMPLE_RATE, duration = 5)\n",
    "C = librosa.feature.chroma_stft(y=y,\n",
    "                                sr=sr,\n",
    "                                S=None,\n",
    "                                n_fft=2048,\n",
    "                                hop_length=512,\n",
    "                                win_length=None,\n",
    "                                window='hann',\n",
    "                                center=True,\n",
    "                                pad_mode='constant',\n",
    "                                tuning=None,\n",
    "                                n_chroma=8)\n",
    "\n",
    "# Make a new figure\n",
    "plt.figure(figsize=(12,4))\n",
    "# To make sure that the colors span the full range of chroma values, set vmin and vmax\n",
    "librosa.display.specshow(C, sr=sr, x_axis='time', y_axis='chroma')\n",
    "plt.title('Chromagram')\n",
    "plt.colorbar()\n",
    "plt.tight_layout()"
   ]
  },
  {
   "cell_type": "code",
   "execution_count": null,
   "id": "613c42a9",
   "metadata": {},
   "outputs": [],
   "source": [
    "C.shape"
   ]
  },
  {
   "cell_type": "code",
   "execution_count": null,
   "id": "dbc5a839",
   "metadata": {},
   "outputs": [],
   "source": [
    "C = librosa.feature.chroma_cqt(y=y,\n",
    "                           sr=sr,\n",
    "                           C=None,\n",
    "                           hop_length=512,\n",
    "                           fmin=None,\n",
    "                           threshold=0.0,\n",
    "                           tuning=None,\n",
    "                           n_chroma=12,\n",
    "                           n_octaves=7,\n",
    "                           window=None,\n",
    "                           bins_per_octave=36,\n",
    "                           cqt_mode='full')\n",
    "# Make a new figure\n",
    "plt.figure(figsize=(12,4))\n",
    "# To make sure that the colors span the full range of chroma values, set vmin and vmax\n",
    "librosa.display.specshow(C, sr=sr, x_axis='time', y_axis='chroma')\n",
    "plt.title('Chromagram')\n",
    "plt.colorbar()\n",
    "plt.tight_layout()"
   ]
  },
  {
   "cell_type": "code",
   "execution_count": null,
   "id": "ec5587be",
   "metadata": {},
   "outputs": [],
   "source": [
    "C.shape"
   ]
  },
  {
   "cell_type": "code",
   "execution_count": null,
   "id": "ab14aa1c",
   "metadata": {},
   "outputs": [],
   "source": [
    "C = librosa.feature.chroma_cens(y=y,\n",
    "                               sr=sr,\n",
    "                                C=None,\n",
    "                                hop_length=512,\n",
    "                                fmin=None,\n",
    "                                tuning=None,\n",
    "                                n_chroma=12,\n",
    "                                n_octaves=7,\n",
    "                                bins_per_octave=36,\n",
    "                                cqt_mode='full',\n",
    "                                window=None,\n",
    "                                norm=2,\n",
    "                                win_len_smooth=41,\n",
    "                                smoothing_window='hann')\n",
    "\n",
    "# Make a new figure\n",
    "plt.figure(figsize=(12,4))\n",
    "# To make sure that the colors span the full range of chroma values, set vmin and vmax\n",
    "librosa.display.specshow(C, sr=sr, x_axis='time', y_axis='chroma')\n",
    "plt.title('Chromagram')\n",
    "plt.colorbar()\n",
    "plt.tight_layout()"
   ]
  },
  {
   "cell_type": "code",
   "execution_count": null,
   "id": "7af8cf3f",
   "metadata": {},
   "outputs": [],
   "source": [
    "C.shape"
   ]
  },
  {
   "cell_type": "code",
   "execution_count": null,
   "id": "028575c9",
   "metadata": {},
   "outputs": [],
   "source": [
    "p0 = librosa.feature.poly_features(y=y,\n",
    "                                     sr=sr,\n",
    "                                     S=None,\n",
    "                                     n_fft=2048,\n",
    "                                     hop_length=512,\n",
    "                                     win_length=None,\n",
    "                                     window='hann',\n",
    "                                     center=True,\n",
    "                                     pad_mode='constant',\n",
    "                                     order=0,\n",
    "                                     freq=None)\n",
    "p1 = librosa.feature.poly_features(y=y,\n",
    "                                     sr=sr,\n",
    "                                     S=None,\n",
    "                                     n_fft=2048,\n",
    "                                     hop_length=512,\n",
    "                                     win_length=None,\n",
    "                                     window='hann',\n",
    "                                     center=True,\n",
    "                                     pad_mode='constant',\n",
    "                                     order=1,\n",
    "                                     freq=None)\n",
    "p2 = librosa.feature.poly_features(y=y,\n",
    "                                     sr=sr,\n",
    "                                     S=None,\n",
    "                                     n_fft=2048,\n",
    "                                     hop_length=512,\n",
    "                                     win_length=None,\n",
    "                                     window='hann',\n",
    "                                     center=True,\n",
    "                                     pad_mode='constant',\n",
    "                                     order=2,\n",
    "                                     freq=None)\n",
    "p0.shape"
   ]
  },
  {
   "cell_type": "code",
   "execution_count": null,
   "id": "1d9f36f6",
   "metadata": {},
   "outputs": [],
   "source": [
    "p2.shape"
   ]
  },
  {
   "cell_type": "code",
   "execution_count": null,
   "id": "2aacdc13",
   "metadata": {},
   "outputs": [],
   "source": [
    "fig, ax = plt.subplots(nrows=3, sharex=True, figsize=(8, 8))\n",
    "times = librosa.times_like(p0)\n",
    "ax[0].plot(times, p0[0], label='order=0', alpha=0.8)\n",
    "ax[0].plot(times, p1[1], label='order=1', alpha=0.8)\n",
    "ax[0].plot(times, p2[2], label='order=2', alpha=0.8)\n",
    "ax[0].legend()\n",
    "ax[0].label_outer()\n",
    "ax[0].set(ylabel='Constant term ')\n",
    "ax[1].plot(times, p1[0], label='order=1', alpha=0.8)\n",
    "ax[1].plot(times, p2[1], label='order=2', alpha=0.8)\n",
    "ax[1].set(ylabel='Linear term')\n",
    "ax[1].label_outer()\n",
    "ax[1].legend()\n",
    "ax[2].plot(times, p2[0], label='order=2', alpha=0.8)\n",
    "ax[2].set(ylabel='Quadratic term')\n",
    "ax[2].legend()"
   ]
  },
  {
   "cell_type": "code",
   "execution_count": null,
   "id": "7596d13d",
   "metadata": {},
   "outputs": [],
   "source": []
  },
  {
   "cell_type": "markdown",
   "id": "d8847bb3",
   "metadata": {},
   "source": [
    "# MFCC Inspection"
   ]
  },
  {
   "cell_type": "code",
   "execution_count": null,
   "id": "30c638bd",
   "metadata": {},
   "outputs": [],
   "source": [
    "mfccs = []\n",
    "mfcc = librosa.feature.mfcc(wav[0], sr=44000, n_mfcc=5)\n",
    "#print(mfcc)\n",
    "#print(mfcc.shape)\n",
    "mfcc = mfcc.T\n",
    "print(mfcc)\n",
    "print(mfcc.shape)\n",
    "mfccs.append(mfcc)\n",
    "mfccs = np.append(mfccs,mfcc)\n",
    "\n"
   ]
  },
  {
   "cell_type": "code",
   "execution_count": null,
   "id": "0c83e303",
   "metadata": {},
   "outputs": [],
   "source": []
  },
  {
   "cell_type": "code",
   "execution_count": null,
   "id": "05c48f34",
   "metadata": {
    "scrolled": true
   },
   "outputs": [],
   "source": [
    "mfccs = np.array(mfccs)"
   ]
  },
  {
   "cell_type": "code",
   "execution_count": null,
   "id": "c762cfcc",
   "metadata": {},
   "outputs": [],
   "source": [
    "mfccs.shape"
   ]
  },
  {
   "cell_type": "code",
   "execution_count": null,
   "id": "ba5a1599",
   "metadata": {},
   "outputs": [],
   "source": [
    "day_1 = [10, 25, 50]  # OBSERVATION 1 [Temp, speed, pollution]\n",
    "day_2 = [13, 10, 70]  # OBSERVATION 2 [Temp, speed, pollution]\n",
    "day_3 = [ 9,  5, 90]\n",
    "day_4 = [ 7,  0, 95]\n",
    "\n",
    "sequence_a = [day_1, day_2, day_3, day_4]\n",
    "\n",
    "y_a = 110 # Pollution day 5\n",
    "\n",
    "# --- SEQUENCE B (Berlin)\n",
    "sequence_b = [[25, 20, 30], [26, 24, 50], [28, 20, 80], [22, 3, 110]]\n",
    "y_b = 125\n",
    "\n",
    "# --- SEQUENCE C (London)\n",
    "sequence_c = [[15, 10, 60], [25, 20, 65], [35, 10, 75], [36, 15, 70]]\n",
    "y_c = 30\n",
    "\n",
    "X = np.array([sequence_a, sequence_b, sequence_c]).astype(np.float32)\n",
    "y = np.array([y_a, y_b, y_c]).astype(np.float32)\n",
    "\n",
    "print(X.shape)\n",
    "print(y.shape)"
   ]
  },
  {
   "cell_type": "code",
   "execution_count": null,
   "id": "6fd03468",
   "metadata": {},
   "outputs": [],
   "source": []
  },
  {
   "cell_type": "code",
   "execution_count": null,
   "id": "f568f286",
   "metadata": {},
   "outputs": [],
   "source": []
  },
  {
   "cell_type": "markdown",
   "id": "b77db707",
   "metadata": {},
   "source": [
    "# Padding All Clips"
   ]
  },
  {
   "cell_type": "code",
   "execution_count": null,
   "id": "254702e0",
   "metadata": {},
   "outputs": [],
   "source": [
    "SAMPLE_RATE"
   ]
  },
  {
   "cell_type": "code",
   "execution_count": null,
   "id": "f0d8f83e",
   "metadata": {
    "scrolled": true
   },
   "outputs": [],
   "source": [
    "features = []\n",
    "n = 50\n",
    "for path in CREMA_df['path'][:n]:\n",
    "    wav = librosa.load(path, sr=SAMPLE_RATE, duration = 5)\n",
    "    mfcc = librosa.feature.mfcc(wav[0], sr=44000, n_mfcc=5)\n",
    "    poly = librosa.feature.poly_features(y=wav[0],sr=SAMPLE_RATE,order=4)\n",
    "    print(mfcc.shape, mfcc)\n",
    "    print(poly.shape, poly)\n",
    "    mfcc = np.vstack((mfcc,poly))\n",
    "    \n",
    "    mfcc = mfcc.T\n",
    "    \n",
    "    \n",
    "    \n",
    "\n",
    "    \n",
    "    #mfcc = np.concatenate((mfcc,poly),axis=0,dtype=None)\n",
    "    \n",
    "    \n",
    "    features.append(mfcc)\n",
    "    \n",
    "    \n",
    "    \n",
    "\n",
    "X_pad = pad_sequences(features, dtype='float32', padding='post', value=0)\n",
    "X_pad.shape"
   ]
  },
  {
   "cell_type": "code",
   "execution_count": null,
   "id": "78b69c0e",
   "metadata": {},
   "outputs": [],
   "source": [
    "X_pad.shape"
   ]
  },
  {
   "cell_type": "code",
   "execution_count": null,
   "id": "3efef8ea",
   "metadata": {},
   "outputs": [],
   "source": [
    "targets = pd.read_csv('targets.csv')\n",
    "group = targets.groupby('gender_emotion')\n",
    "sample = group.head(50)\n",
    "sample"
   ]
  },
  {
   "cell_type": "code",
   "execution_count": null,
   "id": "a2bdce46",
   "metadata": {},
   "outputs": [],
   "source": [
    "features = []\n",
    "for path in sample['path']:\n",
    "    wav = librosa.load(path, sr=SAMPLE_RATE, duration = 5)\n",
    "    mfcc = librosa.feature.mfcc(wav[0], sr=44000, n_mfcc=5)\n",
    "    \n",
    "    mfcc = mfcc.T\n",
    "    \n",
    "    features.append(mfcc)\n",
    "    \n",
    "    \n",
    "    \n",
    "\n",
    "X_pad = pad_sequences(features, dtype='float32', padding='post', value=-1000)\n",
    "X_pad.shape"
   ]
  },
  {
   "cell_type": "code",
   "execution_count": null,
   "id": "a5591fb1",
   "metadata": {},
   "outputs": [],
   "source": [
    "import keras\n",
    "from keras import layers\n",
    "from keras import regularizers\n",
    "from keras.preprocessing import sequence\n",
    "from keras.preprocessing.text import Tokenizer\n",
    "from keras.preprocessing.sequence import pad_sequences\n",
    "from keras.models import Sequential, Model, model_from_json\n",
    "from keras.layers import Dense, Embedding, LSTM\n",
    "from keras.layers import Input, Flatten, Dropout, Activation, BatchNormalization\n",
    "from keras.layers import Conv1D, MaxPooling1D, AveragePooling1D\n",
    "from tensorflow.keras import utils\n",
    "from keras.callbacks import (EarlyStopping, LearningRateScheduler,\n",
    "                             ModelCheckpoint, TensorBoard, ReduceLROnPlateau)\n",
    "from tensorflow.keras import losses, models, optimizers\n",
    "from keras.activations import relu, softmax\n",
    "from keras.layers import (Convolution2D, GlobalAveragePooling2D, BatchNormalization, Flatten, Dropout,\n",
    "                          GlobalMaxPool2D, MaxPool2D, concatenate, Activation, Input, Dense)"
   ]
  },
  {
   "cell_type": "markdown",
   "id": "460a8f3c",
   "metadata": {},
   "source": [
    "model = Sequential()\n",
    "model.add(layers.Conv1D(256, 5,padding='same',\n",
    "                 input_shape=(274,20)))\n",
    "model.add(layers.Activation('relu'))\n",
    "model.add(layers.MaxPooling1D(pool_size=(4)))\n",
    "model.add(layers.Dropout(0.2))\n",
    "model.add(layers.Conv1D(128, 5,padding='same'))\n",
    "model.add(layers.Activation('relu'))\n",
    "model.add(layers.MaxPooling1D(pool_size=(4)))\n",
    "model.add(layers.Dropout(0.1))\n",
    "model.add(layers.Flatten())\n",
    "model.add(layers.Dense(64))\n",
    "model.add(layers.Dense(6))\n",
    "model.add(layers.Activation('softmax'))\n",
    "\n",
    "model.compile(optimizer='adam',\n",
    "    loss='categorical_crossentropy',\n",
    "    metrics='acc')"
   ]
  },
  {
   "cell_type": "code",
   "execution_count": null,
   "id": "daece0b7",
   "metadata": {},
   "outputs": [],
   "source": [
    "#y = CREMA_df['emotion'][:50]\n",
    "y = sample['emotion']"
   ]
  },
  {
   "cell_type": "code",
   "execution_count": null,
   "id": "0c5375cb",
   "metadata": {},
   "outputs": [],
   "source": [
    "X_pad.shape"
   ]
  },
  {
   "cell_type": "code",
   "execution_count": null,
   "id": "ea78eb85",
   "metadata": {},
   "outputs": [],
   "source": [
    "from sklearn.preprocessing import LabelEncoder\n",
    "from tensorflow.keras.utils import to_categorical"
   ]
  },
  {
   "cell_type": "code",
   "execution_count": null,
   "id": "c3a3c3f0",
   "metadata": {},
   "outputs": [],
   "source": [
    "le = LabelEncoder()\n",
    "y = le.fit_transform(y)\n",
    "y.shape"
   ]
  },
  {
   "cell_type": "code",
   "execution_count": null,
   "id": "0eae66d2",
   "metadata": {},
   "outputs": [],
   "source": [
    "y"
   ]
  },
  {
   "cell_type": "code",
   "execution_count": null,
   "id": "64708b30",
   "metadata": {
    "scrolled": true
   },
   "outputs": [],
   "source": [
    "y_cat = to_categorical(y)\n",
    "y_cat.shape"
   ]
  },
  {
   "cell_type": "code",
   "execution_count": null,
   "id": "cb10ae22",
   "metadata": {},
   "outputs": [],
   "source": [
    "y_cat"
   ]
  },
  {
   "cell_type": "code",
   "execution_count": null,
   "id": "17cf13b3",
   "metadata": {},
   "outputs": [],
   "source": [
    "X_train, X_val, y_train, y_val = train_test_split(X_pad, y_cat, test_size=0.20, random_state=42)"
   ]
  },
  {
   "cell_type": "code",
   "execution_count": null,
   "id": "268e037a",
   "metadata": {},
   "outputs": [],
   "source": [
    "print(X_train.shape)\n",
    "print(y_train.shape)"
   ]
  },
  {
   "cell_type": "code",
   "execution_count": null,
   "id": "f3c77e62",
   "metadata": {},
   "outputs": [],
   "source": [
    "from tensorflow.keras.models import Sequential\n",
    "from tensorflow.keras import layers\n",
    "from tensorflow.keras.optimizers import Adam\n",
    "from tensorflow.math import confusion_matrix"
   ]
  },
  {
   "cell_type": "code",
   "execution_count": null,
   "id": "5427b917",
   "metadata": {},
   "outputs": [],
   "source": [
    "model = Sequential()\n",
    "model.add(layers.Masking(mask_value = -1000., input_shape=(431, 5)))\n",
    "model.add(layers.LSTM(units=5, return_sequences=True, activation='tanh'))\n",
    "model.add(layers.LSTM(64, return_sequences=False, activation='tanh'))\n",
    "model.add(layers.Dense(32, activation='relu'))\n",
    "model.add(layers.Dense(8, activation='relu'))\n",
    "model.add(layers.Dense(6, activation=\"softmax\"))\n",
    "\n",
    "# The compilation\n",
    "optimiser = Adam(learning_rate=0.01)\n",
    "model.compile(loss='categorical_crossentropy', \n",
    "              optimizer=optimiser,metrics='acc')  # Recommanded optimizer for RNN\n",
    "\n",
    "model.summary()"
   ]
  },
  {
   "cell_type": "code",
   "execution_count": null,
   "id": "86a11a54",
   "metadata": {},
   "outputs": [],
   "source": [
    "# The fit\n",
    "model.fit(X_train, y_train, validation_data=(X_val,y_val),\n",
    "         batch_size=32,\n",
    "         epochs=5, verbose=1)"
   ]
  },
  {
   "cell_type": "code",
   "execution_count": null,
   "id": "10c0093e",
   "metadata": {},
   "outputs": [],
   "source": [
    "model.evaluate()"
   ]
  },
  {
   "cell_type": "code",
   "execution_count": null,
   "id": "fbc44166",
   "metadata": {},
   "outputs": [],
   "source": [
    "pred = model.predict(X_val)"
   ]
  },
  {
   "cell_type": "code",
   "execution_count": null,
   "id": "22f1faae",
   "metadata": {},
   "outputs": [],
   "source": [
    "pred"
   ]
  },
  {
   "cell_type": "code",
   "execution_count": null,
   "id": "a877ae4f",
   "metadata": {},
   "outputs": [],
   "source": [
    "pred[0].max()"
   ]
  },
  {
   "cell_type": "code",
   "execution_count": null,
   "id": "53e8c094",
   "metadata": {},
   "outputs": [],
   "source": [
    "y_val"
   ]
  },
  {
   "cell_type": "code",
   "execution_count": null,
   "id": "0915c7a8",
   "metadata": {},
   "outputs": [],
   "source": [
    "confusion_matrix(pred, y_val)"
   ]
  },
  {
   "cell_type": "code",
   "execution_count": null,
   "id": "37d24b40",
   "metadata": {},
   "outputs": [],
   "source": []
  }
 ],
 "metadata": {
  "kernelspec": {
   "display_name": "Python 3 (ipykernel)",
   "language": "python",
   "name": "python3"
  },
  "language_info": {
   "codemirror_mode": {
    "name": "ipython",
    "version": 3
   },
   "file_extension": ".py",
   "mimetype": "text/x-python",
   "name": "python",
   "nbconvert_exporter": "python",
   "pygments_lexer": "ipython3",
   "version": "3.8.12"
  },
  "toc": {
   "base_numbering": 1,
   "nav_menu": {},
   "number_sections": true,
   "sideBar": true,
   "skip_h1_title": false,
   "title_cell": "Table of Contents",
   "title_sidebar": "Contents",
   "toc_cell": false,
   "toc_position": {},
   "toc_section_display": true,
   "toc_window_display": false
  }
 },
 "nbformat": 4,
 "nbformat_minor": 5
}
